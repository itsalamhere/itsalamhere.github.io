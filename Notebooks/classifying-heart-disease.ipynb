{
 "cells": [
  {
   "cell_type": "markdown",
   "metadata": {},
   "source": [
    "# Classifying Heart Disease\n",
    "\n",
    "In this project we're using a machine learning model of logistic regression. We'll also be looking at a real-life dataset: the [Heart Disease Data Set](https://archive.ics.uci.edu/dataset/45/heart+disease) from the UCI Machine Learning Repository, created by the famous Cleveland Clinic Foundation. Note: The dataset has been partially cleaned to perform binary classification, the thing we're focusing on."
   ]
  },
  {
   "cell_type": "code",
   "execution_count": 7,
   "metadata": {},
   "outputs": [],
   "source": [
    "# Import common libraries (relevant ones \n",
    "# for ML are imported later on):\n",
    "import numpy as np\n",
    "import pandas as pd\n",
    "import matplotlib.pyplot as plt\n",
    "import seaborn as sns\n",
    "%matplotlib inline"
   ]
  },
  {
   "cell_type": "code",
   "execution_count": 5,
   "metadata": {},
   "outputs": [],
   "source": [
    "# Read the dataset:\n",
    "heart = pd.read_csv('heart_disease.csv')"
   ]
  },
  {
   "cell_type": "markdown",
   "metadata": {},
   "source": [
    "## Exploring the Dataset"
   ]
  },
  {
   "cell_type": "code",
   "execution_count": 6,
   "metadata": {},
   "outputs": [
    {
     "data": {
      "text/html": [
       "<div>\n",
       "<style scoped>\n",
       "    .dataframe tbody tr th:only-of-type {\n",
       "        vertical-align: middle;\n",
       "    }\n",
       "\n",
       "    .dataframe tbody tr th {\n",
       "        vertical-align: top;\n",
       "    }\n",
       "\n",
       "    .dataframe thead th {\n",
       "        text-align: right;\n",
       "    }\n",
       "</style>\n",
       "<table border=\"1\" class=\"dataframe\">\n",
       "  <thead>\n",
       "    <tr style=\"text-align: right;\">\n",
       "      <th></th>\n",
       "      <th>Unnamed: 0</th>\n",
       "      <th>age</th>\n",
       "      <th>sex</th>\n",
       "      <th>cp</th>\n",
       "      <th>trestbps</th>\n",
       "      <th>chol</th>\n",
       "      <th>fbs</th>\n",
       "      <th>restecg</th>\n",
       "      <th>thalach</th>\n",
       "      <th>exang</th>\n",
       "      <th>oldpeak</th>\n",
       "      <th>slope</th>\n",
       "      <th>ca</th>\n",
       "      <th>thal</th>\n",
       "      <th>present</th>\n",
       "    </tr>\n",
       "  </thead>\n",
       "  <tbody>\n",
       "    <tr>\n",
       "      <th>0</th>\n",
       "      <td>1</td>\n",
       "      <td>63</td>\n",
       "      <td>1</td>\n",
       "      <td>1</td>\n",
       "      <td>145</td>\n",
       "      <td>233</td>\n",
       "      <td>1</td>\n",
       "      <td>2</td>\n",
       "      <td>150</td>\n",
       "      <td>0</td>\n",
       "      <td>2.3</td>\n",
       "      <td>3</td>\n",
       "      <td>0.0</td>\n",
       "      <td>6.0</td>\n",
       "      <td>0</td>\n",
       "    </tr>\n",
       "    <tr>\n",
       "      <th>1</th>\n",
       "      <td>2</td>\n",
       "      <td>67</td>\n",
       "      <td>1</td>\n",
       "      <td>4</td>\n",
       "      <td>160</td>\n",
       "      <td>286</td>\n",
       "      <td>0</td>\n",
       "      <td>2</td>\n",
       "      <td>108</td>\n",
       "      <td>1</td>\n",
       "      <td>1.5</td>\n",
       "      <td>2</td>\n",
       "      <td>3.0</td>\n",
       "      <td>3.0</td>\n",
       "      <td>1</td>\n",
       "    </tr>\n",
       "    <tr>\n",
       "      <th>2</th>\n",
       "      <td>3</td>\n",
       "      <td>67</td>\n",
       "      <td>1</td>\n",
       "      <td>4</td>\n",
       "      <td>120</td>\n",
       "      <td>229</td>\n",
       "      <td>0</td>\n",
       "      <td>2</td>\n",
       "      <td>129</td>\n",
       "      <td>1</td>\n",
       "      <td>2.6</td>\n",
       "      <td>2</td>\n",
       "      <td>2.0</td>\n",
       "      <td>7.0</td>\n",
       "      <td>1</td>\n",
       "    </tr>\n",
       "    <tr>\n",
       "      <th>3</th>\n",
       "      <td>4</td>\n",
       "      <td>37</td>\n",
       "      <td>1</td>\n",
       "      <td>3</td>\n",
       "      <td>130</td>\n",
       "      <td>250</td>\n",
       "      <td>0</td>\n",
       "      <td>0</td>\n",
       "      <td>187</td>\n",
       "      <td>0</td>\n",
       "      <td>3.5</td>\n",
       "      <td>3</td>\n",
       "      <td>0.0</td>\n",
       "      <td>3.0</td>\n",
       "      <td>0</td>\n",
       "    </tr>\n",
       "    <tr>\n",
       "      <th>4</th>\n",
       "      <td>5</td>\n",
       "      <td>41</td>\n",
       "      <td>0</td>\n",
       "      <td>2</td>\n",
       "      <td>130</td>\n",
       "      <td>204</td>\n",
       "      <td>0</td>\n",
       "      <td>2</td>\n",
       "      <td>172</td>\n",
       "      <td>0</td>\n",
       "      <td>1.4</td>\n",
       "      <td>1</td>\n",
       "      <td>0.0</td>\n",
       "      <td>3.0</td>\n",
       "      <td>0</td>\n",
       "    </tr>\n",
       "  </tbody>\n",
       "</table>\n",
       "</div>"
      ],
      "text/plain": [
       "   Unnamed: 0  age  sex  cp  trestbps  chol  fbs  restecg  thalach  exang  \\\n",
       "0           1   63    1   1       145   233    1        2      150      0   \n",
       "1           2   67    1   4       160   286    0        2      108      1   \n",
       "2           3   67    1   4       120   229    0        2      129      1   \n",
       "3           4   37    1   3       130   250    0        0      187      0   \n",
       "4           5   41    0   2       130   204    0        2      172      0   \n",
       "\n",
       "   oldpeak  slope   ca thal  present  \n",
       "0      2.3      3  0.0  6.0        0  \n",
       "1      1.5      2  3.0  3.0        1  \n",
       "2      2.6      2  2.0  7.0        1  \n",
       "3      3.5      3  0.0  3.0        0  \n",
       "4      1.4      1  0.0  3.0        0  "
      ]
     },
     "execution_count": 6,
     "metadata": {},
     "output_type": "execute_result"
    }
   ],
   "source": [
    "heart.head()"
   ]
  },
  {
   "cell_type": "code",
   "execution_count": 3,
   "metadata": {},
   "outputs": [
    {
     "name": "stdout",
     "output_type": "stream",
     "text": [
      "<class 'pandas.core.frame.DataFrame'>\n",
      "RangeIndex: 303 entries, 0 to 302\n",
      "Data columns (total 15 columns):\n",
      " #   Column      Non-Null Count  Dtype  \n",
      "---  ------      --------------  -----  \n",
      " 0   Unnamed: 0  303 non-null    int64  \n",
      " 1   age         303 non-null    int64  \n",
      " 2   sex         303 non-null    int64  \n",
      " 3   cp          303 non-null    int64  \n",
      " 4   trestbps    303 non-null    int64  \n",
      " 5   chol        303 non-null    int64  \n",
      " 6   fbs         303 non-null    int64  \n",
      " 7   restecg     303 non-null    int64  \n",
      " 8   thalach     303 non-null    int64  \n",
      " 9   exang       303 non-null    int64  \n",
      " 10  oldpeak     303 non-null    float64\n",
      " 11  slope       303 non-null    int64  \n",
      " 12  ca          303 non-null    object \n",
      " 13  thal        303 non-null    object \n",
      " 14  present     303 non-null    int64  \n",
      "dtypes: float64(1), int64(12), object(2)\n",
      "memory usage: 35.6+ KB\n"
     ]
    }
   ],
   "source": [
    "heart.info()"
   ]
  },
  {
   "cell_type": "markdown",
   "metadata": {},
   "source": [
    "Columns `ca` and `thal` have  `object` dtypes; different than any other else. We need to convert this first into `int`/`float`:"
   ]
  },
  {
   "cell_type": "code",
   "execution_count": 19,
   "metadata": {},
   "outputs": [
    {
     "data": {
      "text/plain": [
       "0.0    0.580858\n",
       "1.0    0.214521\n",
       "2.0    0.125413\n",
       "3.0    0.066007\n",
       "?      0.013201\n",
       "Name: ca, dtype: float64"
      ]
     },
     "execution_count": 19,
     "metadata": {},
     "output_type": "execute_result"
    }
   ],
   "source": [
    "heart['ca'].value_counts(normalize=True)"
   ]
  },
  {
   "cell_type": "code",
   "execution_count": 20,
   "metadata": {},
   "outputs": [
    {
     "data": {
      "text/plain": [
       "3.0    0.547855\n",
       "7.0    0.386139\n",
       "6.0    0.059406\n",
       "?      0.006601\n",
       "Name: thal, dtype: float64"
      ]
     },
     "execution_count": 20,
     "metadata": {},
     "output_type": "execute_result"
    }
   ],
   "source": [
    "heart['thal'].value_counts(normalize=True)"
   ]
  },
  {
   "cell_type": "markdown",
   "metadata": {},
   "source": [
    "These columns have a value of `?`, and we need to figure out how to deal with it. The description tells us that:\n",
    "\n",
    "* `ca` : number of major vessels (0-3) colored by flourosopy,\n",
    "* `thal` : <no info> \\*browsing\\* thalassemia, binary (0-1)\n",
    "    \n",
    "Since we can't do much about it and the portion's small compared to other values, we'll change the `?` to `0`:"
   ]
  },
  {
   "cell_type": "code",
   "execution_count": 23,
   "metadata": {},
   "outputs": [],
   "source": [
    "heart[ heart['ca'] == '?' ] = 0.0\n",
    "heart[ heart['thal'] == '?' ] = 0.0\n",
    "\n",
    "heart['ca'] = pd.to_numeric(heart['ca'])\n",
    "heart['thal'] = pd.to_numeric(heart['thal'])"
   ]
  },
  {
   "cell_type": "code",
   "execution_count": 24,
   "metadata": {},
   "outputs": [
    {
     "data": {
      "text/html": [
       "<div>\n",
       "<style scoped>\n",
       "    .dataframe tbody tr th:only-of-type {\n",
       "        vertical-align: middle;\n",
       "    }\n",
       "\n",
       "    .dataframe tbody tr th {\n",
       "        vertical-align: top;\n",
       "    }\n",
       "\n",
       "    .dataframe thead th {\n",
       "        text-align: right;\n",
       "    }\n",
       "</style>\n",
       "<table border=\"1\" class=\"dataframe\">\n",
       "  <thead>\n",
       "    <tr style=\"text-align: right;\">\n",
       "      <th></th>\n",
       "      <th>Unnamed: 0</th>\n",
       "      <th>age</th>\n",
       "      <th>sex</th>\n",
       "      <th>cp</th>\n",
       "      <th>trestbps</th>\n",
       "      <th>chol</th>\n",
       "      <th>fbs</th>\n",
       "      <th>restecg</th>\n",
       "      <th>thalach</th>\n",
       "      <th>exang</th>\n",
       "      <th>oldpeak</th>\n",
       "      <th>slope</th>\n",
       "      <th>ca</th>\n",
       "      <th>thal</th>\n",
       "      <th>present</th>\n",
       "    </tr>\n",
       "  </thead>\n",
       "  <tbody>\n",
       "    <tr>\n",
       "      <th>count</th>\n",
       "      <td>303.000000</td>\n",
       "      <td>303.000000</td>\n",
       "      <td>303.000000</td>\n",
       "      <td>303.00000</td>\n",
       "      <td>303.000000</td>\n",
       "      <td>303.000000</td>\n",
       "      <td>303.000000</td>\n",
       "      <td>303.000000</td>\n",
       "      <td>303.000000</td>\n",
       "      <td>303.000000</td>\n",
       "      <td>303.000000</td>\n",
       "      <td>303.000000</td>\n",
       "      <td>303.000000</td>\n",
       "      <td>303.000000</td>\n",
       "      <td>303.000000</td>\n",
       "    </tr>\n",
       "    <tr>\n",
       "      <th>mean</th>\n",
       "      <td>147.689769</td>\n",
       "      <td>53.462046</td>\n",
       "      <td>0.663366</td>\n",
       "      <td>3.09571</td>\n",
       "      <td>129.085809</td>\n",
       "      <td>242.452145</td>\n",
       "      <td>0.141914</td>\n",
       "      <td>0.976898</td>\n",
       "      <td>146.636964</td>\n",
       "      <td>0.320132</td>\n",
       "      <td>1.034653</td>\n",
       "      <td>1.570957</td>\n",
       "      <td>0.663366</td>\n",
       "      <td>4.636964</td>\n",
       "      <td>0.452145</td>\n",
       "    </tr>\n",
       "    <tr>\n",
       "      <th>std</th>\n",
       "      <td>88.971735</td>\n",
       "      <td>11.755978</td>\n",
       "      <td>0.473340</td>\n",
       "      <td>1.05200</td>\n",
       "      <td>25.436049</td>\n",
       "      <td>61.979837</td>\n",
       "      <td>0.349539</td>\n",
       "      <td>0.994752</td>\n",
       "      <td>30.849456</td>\n",
       "      <td>0.467299</td>\n",
       "      <td>1.163840</td>\n",
       "      <td>0.651601</td>\n",
       "      <td>0.934375</td>\n",
       "      <td>2.029636</td>\n",
       "      <td>0.498528</td>\n",
       "    </tr>\n",
       "    <tr>\n",
       "      <th>min</th>\n",
       "      <td>0.000000</td>\n",
       "      <td>0.000000</td>\n",
       "      <td>0.000000</td>\n",
       "      <td>0.00000</td>\n",
       "      <td>0.000000</td>\n",
       "      <td>0.000000</td>\n",
       "      <td>0.000000</td>\n",
       "      <td>0.000000</td>\n",
       "      <td>0.000000</td>\n",
       "      <td>0.000000</td>\n",
       "      <td>0.000000</td>\n",
       "      <td>0.000000</td>\n",
       "      <td>0.000000</td>\n",
       "      <td>0.000000</td>\n",
       "      <td>0.000000</td>\n",
       "    </tr>\n",
       "    <tr>\n",
       "      <th>25%</th>\n",
       "      <td>70.500000</td>\n",
       "      <td>47.000000</td>\n",
       "      <td>0.000000</td>\n",
       "      <td>2.00000</td>\n",
       "      <td>120.000000</td>\n",
       "      <td>209.500000</td>\n",
       "      <td>0.000000</td>\n",
       "      <td>0.000000</td>\n",
       "      <td>132.000000</td>\n",
       "      <td>0.000000</td>\n",
       "      <td>0.000000</td>\n",
       "      <td>1.000000</td>\n",
       "      <td>0.000000</td>\n",
       "      <td>3.000000</td>\n",
       "      <td>0.000000</td>\n",
       "    </tr>\n",
       "    <tr>\n",
       "      <th>50%</th>\n",
       "      <td>147.000000</td>\n",
       "      <td>55.000000</td>\n",
       "      <td>1.000000</td>\n",
       "      <td>3.00000</td>\n",
       "      <td>130.000000</td>\n",
       "      <td>240.000000</td>\n",
       "      <td>0.000000</td>\n",
       "      <td>0.000000</td>\n",
       "      <td>152.000000</td>\n",
       "      <td>0.000000</td>\n",
       "      <td>0.800000</td>\n",
       "      <td>2.000000</td>\n",
       "      <td>0.000000</td>\n",
       "      <td>3.000000</td>\n",
       "      <td>0.000000</td>\n",
       "    </tr>\n",
       "    <tr>\n",
       "      <th>75%</th>\n",
       "      <td>224.500000</td>\n",
       "      <td>61.000000</td>\n",
       "      <td>1.000000</td>\n",
       "      <td>4.00000</td>\n",
       "      <td>140.000000</td>\n",
       "      <td>275.000000</td>\n",
       "      <td>0.000000</td>\n",
       "      <td>2.000000</td>\n",
       "      <td>165.000000</td>\n",
       "      <td>1.000000</td>\n",
       "      <td>1.600000</td>\n",
       "      <td>2.000000</td>\n",
       "      <td>1.000000</td>\n",
       "      <td>7.000000</td>\n",
       "      <td>1.000000</td>\n",
       "    </tr>\n",
       "    <tr>\n",
       "      <th>max</th>\n",
       "      <td>302.000000</td>\n",
       "      <td>77.000000</td>\n",
       "      <td>1.000000</td>\n",
       "      <td>4.00000</td>\n",
       "      <td>200.000000</td>\n",
       "      <td>564.000000</td>\n",
       "      <td>1.000000</td>\n",
       "      <td>2.000000</td>\n",
       "      <td>202.000000</td>\n",
       "      <td>1.000000</td>\n",
       "      <td>6.200000</td>\n",
       "      <td>3.000000</td>\n",
       "      <td>3.000000</td>\n",
       "      <td>7.000000</td>\n",
       "      <td>1.000000</td>\n",
       "    </tr>\n",
       "  </tbody>\n",
       "</table>\n",
       "</div>"
      ],
      "text/plain": [
       "       Unnamed: 0         age         sex         cp    trestbps        chol  \\\n",
       "count  303.000000  303.000000  303.000000  303.00000  303.000000  303.000000   \n",
       "mean   147.689769   53.462046    0.663366    3.09571  129.085809  242.452145   \n",
       "std     88.971735   11.755978    0.473340    1.05200   25.436049   61.979837   \n",
       "min      0.000000    0.000000    0.000000    0.00000    0.000000    0.000000   \n",
       "25%     70.500000   47.000000    0.000000    2.00000  120.000000  209.500000   \n",
       "50%    147.000000   55.000000    1.000000    3.00000  130.000000  240.000000   \n",
       "75%    224.500000   61.000000    1.000000    4.00000  140.000000  275.000000   \n",
       "max    302.000000   77.000000    1.000000    4.00000  200.000000  564.000000   \n",
       "\n",
       "              fbs     restecg     thalach       exang     oldpeak       slope  \\\n",
       "count  303.000000  303.000000  303.000000  303.000000  303.000000  303.000000   \n",
       "mean     0.141914    0.976898  146.636964    0.320132    1.034653    1.570957   \n",
       "std      0.349539    0.994752   30.849456    0.467299    1.163840    0.651601   \n",
       "min      0.000000    0.000000    0.000000    0.000000    0.000000    0.000000   \n",
       "25%      0.000000    0.000000  132.000000    0.000000    0.000000    1.000000   \n",
       "50%      0.000000    0.000000  152.000000    0.000000    0.800000    2.000000   \n",
       "75%      0.000000    2.000000  165.000000    1.000000    1.600000    2.000000   \n",
       "max      1.000000    2.000000  202.000000    1.000000    6.200000    3.000000   \n",
       "\n",
       "               ca        thal     present  \n",
       "count  303.000000  303.000000  303.000000  \n",
       "mean     0.663366    4.636964    0.452145  \n",
       "std      0.934375    2.029636    0.498528  \n",
       "min      0.000000    0.000000    0.000000  \n",
       "25%      0.000000    3.000000    0.000000  \n",
       "50%      0.000000    3.000000    0.000000  \n",
       "75%      1.000000    7.000000    1.000000  \n",
       "max      3.000000    7.000000    1.000000  "
      ]
     },
     "execution_count": 24,
     "metadata": {},
     "output_type": "execute_result"
    }
   ],
   "source": [
    "heart.describe()"
   ]
  },
  {
   "cell_type": "code",
   "execution_count": 25,
   "metadata": {},
   "outputs": [
    {
     "data": {
      "image/png": "[encoded data removed]",
      "text/plain": [
       "<Figure size 640x480 with 1 Axes>"
      ]
     },
     "metadata": {},
     "output_type": "display_data"
    }
   ],
   "source": [
    "heart.hist('present')\n",
    "plt.show()"
   ]
  },
  {
   "cell_type": "code",
   "execution_count": 26,
   "metadata": {},
   "outputs": [
    {
     "data": {
      "text/html": [
       "<div>\n",
       "<style scoped>\n",
       "    .dataframe tbody tr th:only-of-type {\n",
       "        vertical-align: middle;\n",
       "    }\n",
       "\n",
       "    .dataframe tbody tr th {\n",
       "        vertical-align: top;\n",
       "    }\n",
       "\n",
       "    .dataframe thead th {\n",
       "        text-align: right;\n",
       "    }\n",
       "</style>\n",
       "<table border=\"1\" class=\"dataframe\">\n",
       "  <thead>\n",
       "    <tr style=\"text-align: right;\">\n",
       "      <th></th>\n",
       "      <th>age</th>\n",
       "      <th>sex</th>\n",
       "      <th>cp</th>\n",
       "      <th>trestbps</th>\n",
       "      <th>chol</th>\n",
       "      <th>fbs</th>\n",
       "      <th>restecg</th>\n",
       "      <th>thalach</th>\n",
       "      <th>exang</th>\n",
       "      <th>oldpeak</th>\n",
       "      <th>slope</th>\n",
       "      <th>ca</th>\n",
       "      <th>thal</th>\n",
       "    </tr>\n",
       "    <tr>\n",
       "      <th>present</th>\n",
       "      <th></th>\n",
       "      <th></th>\n",
       "      <th></th>\n",
       "      <th></th>\n",
       "      <th></th>\n",
       "      <th></th>\n",
       "      <th></th>\n",
       "      <th></th>\n",
       "      <th></th>\n",
       "      <th></th>\n",
       "      <th></th>\n",
       "      <th></th>\n",
       "      <th></th>\n",
       "    </tr>\n",
       "  </thead>\n",
       "  <tbody>\n",
       "    <tr>\n",
       "      <th>0</th>\n",
       "      <td>50.740964</td>\n",
       "      <td>0.536145</td>\n",
       "      <td>2.692771</td>\n",
       "      <td>124.506024</td>\n",
       "      <td>234.692771</td>\n",
       "      <td>0.138554</td>\n",
       "      <td>0.813253</td>\n",
       "      <td>152.849398</td>\n",
       "      <td>0.138554</td>\n",
       "      <td>0.577108</td>\n",
       "      <td>1.361446</td>\n",
       "      <td>0.265060</td>\n",
       "      <td>3.650602</td>\n",
       "    </tr>\n",
       "    <tr>\n",
       "      <th>1</th>\n",
       "      <td>56.759124</td>\n",
       "      <td>0.817518</td>\n",
       "      <td>3.583942</td>\n",
       "      <td>134.635036</td>\n",
       "      <td>251.854015</td>\n",
       "      <td>0.145985</td>\n",
       "      <td>1.175182</td>\n",
       "      <td>139.109489</td>\n",
       "      <td>0.540146</td>\n",
       "      <td>1.589051</td>\n",
       "      <td>1.824818</td>\n",
       "      <td>1.145985</td>\n",
       "      <td>5.832117</td>\n",
       "    </tr>\n",
       "  </tbody>\n",
       "</table>\n",
       "</div>"
      ],
      "text/plain": [
       "               age       sex        cp    trestbps        chol       fbs  \\\n",
       "present                                                                    \n",
       "0        50.740964  0.536145  2.692771  124.506024  234.692771  0.138554   \n",
       "1        56.759124  0.817518  3.583942  134.635036  251.854015  0.145985   \n",
       "\n",
       "          restecg     thalach     exang   oldpeak     slope        ca  \\\n",
       "present                                                                 \n",
       "0        0.813253  152.849398  0.138554  0.577108  1.361446  0.265060   \n",
       "1        1.175182  139.109489  0.540146  1.589051  1.824818  1.145985   \n",
       "\n",
       "             thal  \n",
       "present            \n",
       "0        3.650602  \n",
       "1        5.832117  "
      ]
     },
     "execution_count": 26,
     "metadata": {},
     "output_type": "execute_result"
    }
   ],
   "source": [
    "# Checking potential predictors:\n",
    "heart.groupby(\"present\").agg( \n",
    "    { \"age\": \"mean\", \"sex\": \"mean\", \"cp\": \"mean\", \"trestbps\": \"mean\", \n",
    "     \"chol\": \"mean\", \"fbs\": \"mean\", \"restecg\": \"mean\", \"thalach\": \"mean\", \n",
    "     \"exang\": \"mean\", \"oldpeak\": \"mean\", \"slope\": \"mean\", \"ca\": \"mean\", \"thal\": \"mean\" \n",
    "    } \n",
    ")"
   ]
  },
  {
   "cell_type": "markdown",
   "metadata": {},
   "source": [
    "### Insights\n",
    "\n",
    "* No missing values; 303 across the board\n",
    "* There are 15 columns: 7 numerical, 7 categorical, 1 label `present`.\n",
    "* There's almost an equal number among patient with cases and non-cases\n",
    "* Seeing the distribution, we can look for potential candidates with a far range between the cases and non-cases, including:\n",
    "    * `age`\n",
    "    * `thalach` (max heart rate achieved)\n",
    "    * `restecg` (resting ECG)\n",
    "    * `ca` (number of vessels colored by spectroscopy)"
   ]
  },
  {
   "cell_type": "markdown",
   "metadata": {},
   "source": [
    "## Dividing the Data\n",
    "\n",
    "To implement the machine learning model, we'll need:\n",
    "\n",
    "* A training set to estimate the regression coefficients\n",
    "* A test set to assess the predictive ability of the model\n",
    "\n",
    "We have 303 columns--small number. We can divide it into `training:test = 70:30`"
   ]
  },
  {
   "cell_type": "code",
   "execution_count": 33,
   "metadata": {},
   "outputs": [
    {
     "name": "stdout",
     "output_type": "stream",
     "text": [
      "`present` = (0,1) in Training Set: 116, 96\n",
      "`present` = (0,1) in Test Set: 50, 41\n"
     ]
    }
   ],
   "source": [
    "from sklearn.model_selection import train_test_split\n",
    "\n",
    "X = heart[['age', 'thalach', 'restecg', 'ca']]\n",
    "y = heart['present']\n",
    "\n",
    "X_train, X_test, y_train, y_test = train_test_split(X, y, test_size=0.3,\n",
    "                                                   random_state=1)\n",
    "# Checking samples representation:\n",
    "print(f'`present` = (0,1) in Training Set: {sum(y_train == 0)}, {sum(y_train == 1)}')\n",
    "print(f'`present` = (0,1) in Test Set: {sum(y_test == 0)}, {sum(y_test == 1)}')"
   ]
  },
  {
   "cell_type": "markdown",
   "metadata": {},
   "source": [
    "Samples in both set seems representative; there are balanced values of `0` and `1`."
   ]
  },
  {
   "cell_type": "markdown",
   "metadata": {},
   "source": [
    "## Building the Model\n",
    "\n",
    "Now we can start making the model and finding the "
   ]
  },
  {
   "cell_type": "code",
   "execution_count": 36,
   "metadata": {},
   "outputs": [],
   "source": [
    "model = LogisticRegression()\n",
    "model.fit(X_train, y_train)\n",
    "y_train_pred = model.predict(X_train)\n",
    "\n",
    "accuracy = model.score(X_train, y_train)\n",
    "tp = sum((y_train == 1) & (y_train_pred == 1))\n",
    "fp = sum((y_train == 0) & (y_train_pred == 1))\n",
    "tn = sum((y_train == 0) & (y_train_pred == 0))\n",
    "fn = sum((y_train == 1) & (y_train_pred == 0))\n",
    "\n",
    "sensitivity = tp / (tp + fn)\n",
    "specificity = tn / (tn + fp)\n",
    "\n",
    "ppv = tp / (tp + fp)\n",
    "npv = tn / (tn + fn)"
   ]
  },
  {
   "cell_type": "code",
   "execution_count": 39,
   "metadata": {},
   "outputs": [
    {
     "name": "stdout",
     "output_type": "stream",
     "text": [
      "Training Accuracy: 74.0566%\n",
      "Training Sensitivity: 61.4583%\n",
      "Training Specificity: 84.4828%\n"
     ]
    }
   ],
   "source": [
    "print(f'Training Accuracy: {round(accuracy * 100, 4)}%')\n",
    "print(f'Training Sensitivity: {round(sensitivity * 100, 4)}%')\n",
    "print(f'Training Specificity: {round(specificity * 100, 4)}%')"
   ]
  },
  {
   "cell_type": "markdown",
   "metadata": {},
   "source": [
    "From the evaluation above, we can see that the model seems to perform better on non-cases with `specificity` = 84.4828%"
   ]
  },
  {
   "cell_type": "markdown",
   "metadata": {},
   "source": [
    "## Interpreting the Model Coefficients\n",
    "\n",
    "Let's look at the coefficients to see if they make sense.`LogisticRegression()` relates the binary outcome to the linear combination of predictors via the link function:\n",
    "\n",
    "$$log( EY / (1-EY) ) = b_0 + b_1 * X$$\n",
    "\n",
    "Thsi function can result us in finding both coefficients:\n",
    "\n",
    "$$log( O_1 / O_0 ) = b_1$$ $$ O_1 / O_0 = odds\\_ratio = \\exp(b_1) $$"
   ]
  },
  {
   "cell_type": "code",
   "execution_count": 42,
   "metadata": {},
   "outputs": [
    {
     "name": "stdout",
     "output_type": "stream",
     "text": [
      "age : 0.03\n",
      "thalach : -0.02\n",
      "restingecg : 0.3\n",
      "ca : 1.01\n"
     ]
    }
   ],
   "source": [
    "coefs = ['age', 'thalach', 'restingecg', 'ca']\n",
    "\n",
    "# Checking in terms of log-odds\n",
    "for coef, val in zip(coefs, model.coef_[0]):\n",
    "    print(coef, \":\", round(val, 2))"
   ]
  },
  {
   "cell_type": "code",
   "execution_count": 43,
   "metadata": {},
   "outputs": [
    {
     "name": "stdout",
     "output_type": "stream",
     "text": [
      "age : 1.03\n",
      "thalach : 0.98\n",
      "restingecg : 1.35\n",
      "ca : 2.76\n"
     ]
    }
   ],
   "source": [
    "# Checking in terms of odds-ratio\n",
    "for coef, val in zip(coefs, model.coef_[0]):\n",
    "    print(coef, \":\", round(np.exp(val), 2))"
   ]
  },
  {
   "cell_type": "markdown",
   "metadata": {},
   "source": [
    "When odds-ratio is more than 1, the model will be more likely to classify the column values to the label, in this case odds that the patient has heart disease.\n",
    "\n",
    "* On the first hand, `age` and `thalach` is close to 1, that doesn't tell us much about the ratio. It could predict the labelling 50:50.\n",
    "* On the other hand, `restingecg`  and `ca` have odds 1.35 and 2.76 respectively. This means that both columns have 47% and 176% increase in odds of heart disease."
   ]
  },
  {
   "cell_type": "markdown",
   "metadata": {},
   "source": [
    "## Final Model Evaluation\n",
    "\n",
    "Now we can assess the predictive ability of our logistic regression model."
   ]
  },
  {
   "cell_type": "code",
   "execution_count": 49,
   "metadata": {},
   "outputs": [],
   "source": [
    "model_test = LogisticRegression()\n",
    "model_test.fit(X_test, y_test)\n",
    "\n",
    "y_test_pred = model.predict(X_test)\n",
    "accuracy_test = model.score(X_test, y_test)\n",
    "\n",
    "tp_test = sum((y_test == 1) & (y_test_pred == 1))\n",
    "fp_test = sum((y_test == 0) & (y_test_pred == 1))\n",
    "tn_test = sum((y_test == 0) & (y_test_pred == 0))\n",
    "fn_test = sum((y_test == 1) & (y_test_pred == 0))\n",
    "\n",
    "sensitivity_test = tp_test / (tp_test + fn_test)\n",
    "specificity_test = tn_test / (tn_test + fp_test)\n",
    "\n",
    "ppv_test = tp_test / (tp_test + fp_test)\n",
    "npv_test = tn_test / (tn_test + fn_test)"
   ]
  },
  {
   "cell_type": "code",
   "execution_count": 50,
   "metadata": {},
   "outputs": [
    {
     "name": "stdout",
     "output_type": "stream",
     "text": [
      "Test Accuracy: 75.8242%\n",
      "Test Sensitivity: 70.7317%\n",
      "Test Specificity: 80.0%\n"
     ]
    }
   ],
   "source": [
    "print(f'Test Accuracy: {round(accuracy_test * 100, 4)}%')\n",
    "print(f'Test Sensitivity: {round(sensitivity_test * 100, 4)}%')\n",
    "print(f'Test Specificity: {round(specificity_test * 100, 4)}%')"
   ]
  },
  {
   "cell_type": "markdown",
   "metadata": {},
   "source": [
    "# Conclusions"
   ]
  },
  {
   "cell_type": "markdown",
   "metadata": {},
   "source": [
    "* The evaluation values on test set didn't change much compared to the training set; both accuracy in 74-75%. The model performs better on non-cases.\n",
    "\n",
    "* The model seem to perform a little bit better on labelling heart disease on test set, with sensitivity of 70.7317%, compared to the training set with 61.4583%\n",
    "\n",
    "* Is it acceptable for actual clinical setting? we've browsed a bit:\n",
    "\n",
    "> Everything above 70% is acceptable as a realistic and valuable model data output. It is important for a models' data output to be realistic since that data can later be incorporated into models used for various businesses and sectors' needs ([deepchecks.com](https://deepchecks.com/question/what-is-a-good-accuracy-score-in-machine-learning/#:~:text=Industry%20standards%20are%20between%2070,various%20businesses%20and%20sectors'%20needs.))\n",
    "\n",
    "* Since we have "
   ]
  },
  {
   "cell_type": "code",
   "execution_count": null,
   "metadata": {},
   "outputs": [],
   "source": []
  }
 ],
 "metadata": {
  "kernelspec": {
   "display_name": "Python 3 (ipykernel)",
   "language": "python",
   "name": "python3"
  },
  "language_info": {
   "codemirror_mode": {
    "name": "ipython",
    "version": 3
   },
   "file_extension": ".py",
   "mimetype": "text/x-python",
   "name": "python",
   "nbconvert_exporter": "python",
   "pygments_lexer": "ipython3",
   "version": "3.10.6"
  }
 },
 "nbformat": 4,
 "nbformat_minor": 4
}
