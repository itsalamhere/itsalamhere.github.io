{
 "cells": [
  {
   "cell_type": "markdown",
   "metadata": {},
   "source": [
    "# Forecasting Future Trades on the S&P 500\n",
    "\n",
    "In this project we'll be forecasting time-series data of S&P 500 from a dataset of [Yahoo Stock Price](https://www.kaggle.com/datasets/arashnic/time-series-forecasting-with-yahoo-stock-price) from 2010 to 2015 using Recurrent Neural Network (RNN). "
   ]
  },
  {
   "cell_type": "markdown",
   "metadata": {},
   "source": [
    "## Data Wrangling and Exploration"
   ]
  },
  {
   "cell_type": "code",
   "execution_count": 1,
   "metadata": {},
   "outputs": [],
   "source": [
    "import numpy as np\n",
    "import pandas as pd\n",
    "\n",
    "import matplotlib.pyplot as plt\n",
    "import matplotlib.dates as mdates\n",
    "import seaborn as sns\n",
    "\n",
    "import tensorflow as tf\n",
    "from tensorflow.keras import layers\n",
    "\n",
    "# Seed code\n",
    "np.random.seed(1)\n",
    "tf.random.set_seed(1)"
   ]
  },
  {
   "cell_type": "code",
   "execution_count": 2,
   "metadata": {},
   "outputs": [
    {
     "data": {
      "text/html": [
       "<div>\n",
       "<style scoped>\n",
       "    .dataframe tbody tr th:only-of-type {\n",
       "        vertical-align: middle;\n",
       "    }\n",
       "\n",
       "    .dataframe tbody tr th {\n",
       "        vertical-align: top;\n",
       "    }\n",
       "\n",
       "    .dataframe thead th {\n",
       "        text-align: right;\n",
       "    }\n",
       "</style>\n",
       "<table border=\"1\" class=\"dataframe\">\n",
       "  <thead>\n",
       "    <tr style=\"text-align: right;\">\n",
       "      <th></th>\n",
       "      <th>Date</th>\n",
       "      <th>High</th>\n",
       "      <th>Low</th>\n",
       "      <th>Open</th>\n",
       "      <th>Close</th>\n",
       "      <th>Volume</th>\n",
       "      <th>Adj Close</th>\n",
       "    </tr>\n",
       "  </thead>\n",
       "  <tbody>\n",
       "    <tr>\n",
       "      <th>0</th>\n",
       "      <td>2015-11-23</td>\n",
       "      <td>2095.610107</td>\n",
       "      <td>2081.389893</td>\n",
       "      <td>2089.409912</td>\n",
       "      <td>2086.590088</td>\n",
       "      <td>3.587980e+09</td>\n",
       "      <td>2086.590088</td>\n",
       "    </tr>\n",
       "    <tr>\n",
       "      <th>1</th>\n",
       "      <td>2015-11-24</td>\n",
       "      <td>2094.120117</td>\n",
       "      <td>2070.290039</td>\n",
       "      <td>2084.419922</td>\n",
       "      <td>2089.139893</td>\n",
       "      <td>3.884930e+09</td>\n",
       "      <td>2089.139893</td>\n",
       "    </tr>\n",
       "    <tr>\n",
       "      <th>2</th>\n",
       "      <td>2015-11-25</td>\n",
       "      <td>2093.000000</td>\n",
       "      <td>2086.300049</td>\n",
       "      <td>2089.300049</td>\n",
       "      <td>2088.870117</td>\n",
       "      <td>2.852940e+09</td>\n",
       "      <td>2088.870117</td>\n",
       "    </tr>\n",
       "    <tr>\n",
       "      <th>3</th>\n",
       "      <td>2015-11-26</td>\n",
       "      <td>2093.000000</td>\n",
       "      <td>2086.300049</td>\n",
       "      <td>2089.300049</td>\n",
       "      <td>2088.870117</td>\n",
       "      <td>2.852940e+09</td>\n",
       "      <td>2088.870117</td>\n",
       "    </tr>\n",
       "    <tr>\n",
       "      <th>4</th>\n",
       "      <td>2015-11-27</td>\n",
       "      <td>2093.290039</td>\n",
       "      <td>2084.129883</td>\n",
       "      <td>2088.820068</td>\n",
       "      <td>2090.110107</td>\n",
       "      <td>1.466840e+09</td>\n",
       "      <td>2090.110107</td>\n",
       "    </tr>\n",
       "  </tbody>\n",
       "</table>\n",
       "</div>"
      ],
      "text/plain": [
       "         Date         High          Low         Open        Close  \\\n",
       "0  2015-11-23  2095.610107  2081.389893  2089.409912  2086.590088   \n",
       "1  2015-11-24  2094.120117  2070.290039  2084.419922  2089.139893   \n",
       "2  2015-11-25  2093.000000  2086.300049  2089.300049  2088.870117   \n",
       "3  2015-11-26  2093.000000  2086.300049  2089.300049  2088.870117   \n",
       "4  2015-11-27  2093.290039  2084.129883  2088.820068  2090.110107   \n",
       "\n",
       "         Volume    Adj Close  \n",
       "0  3.587980e+09  2086.590088  \n",
       "1  3.884930e+09  2089.139893  \n",
       "2  2.852940e+09  2088.870117  \n",
       "3  2.852940e+09  2088.870117  \n",
       "4  1.466840e+09  2090.110107  "
      ]
     },
     "execution_count": 2,
     "metadata": {},
     "output_type": "execute_result"
    }
   ],
   "source": [
    "df = pd.read_csv('yahoo_stock.csv')\n",
    "df.head()"
   ]
  },
  {
   "cell_type": "markdown",
   "metadata": {},
   "source": [
    "We'll be using a column `Adj Close` since it's the fixed final price after adjustments for all applicable splits and dividend distributions."
   ]
  },
  {
   "cell_type": "code",
   "execution_count": 3,
   "metadata": {},
   "outputs": [
    {
     "data": {
      "text/html": [
       "<div>\n",
       "<style scoped>\n",
       "    .dataframe tbody tr th:only-of-type {\n",
       "        vertical-align: middle;\n",
       "    }\n",
       "\n",
       "    .dataframe tbody tr th {\n",
       "        vertical-align: top;\n",
       "    }\n",
       "\n",
       "    .dataframe thead th {\n",
       "        text-align: right;\n",
       "    }\n",
       "</style>\n",
       "<table border=\"1\" class=\"dataframe\">\n",
       "  <thead>\n",
       "    <tr style=\"text-align: right;\">\n",
       "      <th></th>\n",
       "      <th>Adj Close</th>\n",
       "    </tr>\n",
       "    <tr>\n",
       "      <th>Date</th>\n",
       "      <th></th>\n",
       "    </tr>\n",
       "  </thead>\n",
       "  <tbody>\n",
       "    <tr>\n",
       "      <th>2015-11-23</th>\n",
       "      <td>2086.590088</td>\n",
       "    </tr>\n",
       "    <tr>\n",
       "      <th>2015-11-24</th>\n",
       "      <td>2089.139893</td>\n",
       "    </tr>\n",
       "    <tr>\n",
       "      <th>2015-11-25</th>\n",
       "      <td>2088.870117</td>\n",
       "    </tr>\n",
       "    <tr>\n",
       "      <th>2015-11-26</th>\n",
       "      <td>2088.870117</td>\n",
       "    </tr>\n",
       "    <tr>\n",
       "      <th>2015-11-27</th>\n",
       "      <td>2090.110107</td>\n",
       "    </tr>\n",
       "  </tbody>\n",
       "</table>\n",
       "</div>"
      ],
      "text/plain": [
       "              Adj Close\n",
       "Date                   \n",
       "2015-11-23  2086.590088\n",
       "2015-11-24  2089.139893\n",
       "2015-11-25  2088.870117\n",
       "2015-11-26  2088.870117\n",
       "2015-11-27  2090.110107"
      ]
     },
     "execution_count": 3,
     "metadata": {},
     "output_type": "execute_result"
    }
   ],
   "source": [
    "df = df[['Date', 'Adj Close']]\n",
    "df = df.sort_values('Date')\n",
    "df = df.set_index('Date')\n",
    "\n",
    "df.head()"
   ]
  },
  {
   "cell_type": "markdown",
   "metadata": {},
   "source": [
    "Let's check if the data is clean, with `(1)` no missing values, `(2)` no major outliers, and `(3)` sorted by the relevant column containing the date or time information."
   ]
  },
  {
   "cell_type": "code",
   "execution_count": 4,
   "metadata": {},
   "outputs": [
    {
     "name": "stdout",
     "output_type": "stream",
     "text": [
      "Missing Values: \n",
      "Adj Close    0\n",
      "dtype: int64\n",
      "Describe: \n",
      "         Adj Close\n",
      "count  1825.000000\n",
      "mean   2647.856284\n",
      "std     407.301177\n",
      "min    1829.079956\n",
      "25%    2328.949951\n",
      "50%    2683.340088\n",
      "75%    2917.520020\n",
      "max    3626.909912\n",
      "Skew: \n",
      "Adj Close    0.081869\n",
      "dtype: float64\n"
     ]
    }
   ],
   "source": [
    "print(f'Missing Values: \\n{df.isna().sum()}')\n",
    "print(f'Describe: \\n{df.describe()}')\n",
    "print(f'Skew: \\n{df.skew()}')"
   ]
  },
  {
   "cell_type": "markdown",
   "metadata": {},
   "source": [
    "* No missing values ✅\n",
    "* Reasonable range ✅\n",
    "* Sorted by date ✅\n",
    "\n",
    "Let's proceed to visualizing the data to get a better picture."
   ]
  },
  {
   "cell_type": "code",
   "execution_count": 5,
   "metadata": {},
   "outputs": [
    {
     "data": {
      "image/png": "[encoded data removed]",
      "text/plain": [
       "<Figure size 640x480 with 1 Axes>"
      ]
     },
     "metadata": {},
     "output_type": "display_data"
    }
   ],
   "source": [
    "import matplotlib.pyplot as plt\n",
    "import matplotlib.dates as mdates\n",
    "\n",
    "# Plot the data\n",
    "plt.plot(df)\n",
    "\n",
    "# Add title and axis labels\n",
    "plt.title('S&P 500 Index')\n",
    "plt.xlabel('Date')\n",
    "plt.xticks(rotation=45)\n",
    "plt.gca().xaxis.set_major_locator(mdates.YearLocator())\n",
    "plt.gcf().autofmt_xdate()\n",
    "plt.ylabel('Adjusted Close')\n",
    "plt.show()"
   ]
  },
  {
   "cell_type": "markdown",
   "metadata": {},
   "source": [
    "Through the 5 years of data, we can see a pattern (not just some random noise) like dips and spikes. From this data, we can build and train a model. Since we're using RNN that has inputs of different format, we'll go to data pre-processing beforehand."
   ]
  },
  {
   "cell_type": "markdown",
   "metadata": {},
   "source": [
    "## Data Pre-processing\n",
    "\n",
    "Here's what we're going to do:\n",
    "* Divide the data into `train`, `validataion`, and `test` set\n",
    "    * We're dealing with a time-series data, so divide it accordingly.\n",
    "* Scaling the data to be between `0` and `1`, \n",
    "* Create time windows for each dataset, and\n",
    "* Reshape the data into NumPy arrays, a format required for the RNN model"
   ]
  },
  {
   "cell_type": "code",
   "execution_count": 6,
   "metadata": {},
   "outputs": [],
   "source": [
    "# Split the data to training and set \n",
    "# (sequentially--not randomly) using 2:1:1\n",
    "train_size      = int(len(df) * 0.5)\n",
    "validation_size = int(len(df) * 0.25)\n",
    "\n",
    "train_df      = df.iloc[ 0:train_size, : ]\n",
    "validation_df = df.iloc[ train_size:(train_size+validation_size), : ]\n",
    "test_df       = df.iloc[ (train_size+validation_size):len(df), : ]\n",
    "\n",
    "from sklearn.preprocessing import MinMaxScaler\n",
    "\n",
    "# Fit scaler\n",
    "scaler = MinMaxScaler()\n",
    "scaler.fit(train_df)\n",
    "\n",
    "# Scale data\n",
    "train      = pd.DataFrame(scaler.transform(train_df),\n",
    "                 columns=['Adj Close'], index=train_df.index)\n",
    "validation = pd.DataFrame(scaler.transform(validation_df),\n",
    "                 columns=['Adj Close'], index=validation_df.index)\n",
    "test       = pd.DataFrame(scaler.transform(test_df),\n",
    "                 columns=['Adj Close'], index=test_df.index)\n",
    "\n",
    "# Make a function to apply time windows\n",
    "def create_dataset(orig_dataset, window_size=1):\n",
    "    data_x, data_y = [], []\n",
    "    for i in range(len(orig_dataset) - 1 - window_size):\n",
    "        window = orig_dataset.iloc[i : (i + window_size), 0]\n",
    "        target = orig_dataset.iloc[(i + window_size), 0]\n",
    "        data_x.append(window)\n",
    "        data_y.append(target)\n",
    "    return np.array(data_x), np.array(data_y)\n",
    "\n",
    "# Set the desired window_size\n",
    "window_size = 10\n",
    "\n",
    "# Apply the function to each set\n",
    "X_train, y_train = create_dataset(train, window_size)\n",
    "X_validation, y_validation = create_dataset(validation, window_size)\n",
    "X_test, y_test = create_dataset(test, window_size)\n",
    "\n",
    "# `Reshape` the data into NumPy arrays\n",
    "X_train = np.reshape(X_train, \n",
    "    (X_train.shape[0], 1, X_train.shape[1]))\n",
    "X_validation = np.reshape(X_validation, \n",
    "    (X_validation.shape[0], 1, X_validation.shape[1]))\n",
    "X_test = np.reshape(X_test, \n",
    "    (X_test.shape[0], 1, X_test.shape[1]))"
   ]
  },
  {
   "cell_type": "markdown",
   "metadata": {},
   "source": [
    "## Build and Train a Basic RNN Model"
   ]
  },
  {
   "cell_type": "code",
   "execution_count": 7,
   "metadata": {},
   "outputs": [
    {
     "name": "stdout",
     "output_type": "stream",
     "text": [
      "Model: \"sequential\"\n",
      "_________________________________________________________________\n",
      " Layer (type)                Output Shape              Param #   \n",
      "=================================================================\n",
      " simple_rnn (SimpleRNN)      (None, 10)                210       \n",
      "                                                                 \n",
      " dense (Dense)               (None, 10)                110       \n",
      "                                                                 \n",
      " dense_1 (Dense)             (None, 1)                 11        \n",
      "                                                                 \n",
      "=================================================================\n",
      "Total params: 331\n",
      "Trainable params: 331\n",
      "Non-trainable params: 0\n",
      "_________________________________________________________________\n",
      "14/14 [==============================] - 0s 1ms/step\n",
      "R2 Score: 0.8453330398861765\n"
     ]
    }
   ],
   "source": [
    "import tensorflow as tf\n",
    "from tensorflow.keras import layers\n",
    "\n",
    "model = tf.keras.Sequential()\n",
    "\n",
    "model.add(layers.SimpleRNN(10,\n",
    "    input_shape = (1, window_size),\n",
    "    activation = 'relu'))\n",
    "model.add(layers.Dense(10, activation='relu'))\n",
    "model.add(layers.Dense(1))\n",
    "\n",
    "model.compile(optimizer='adam',\n",
    "              loss='mean_squared_error')\n",
    "\n",
    "model.summary()\n",
    "\n",
    "model.fit(X_train, y_train, epochs=10, verbose=0)\n",
    "\n",
    "y_pred_validation = model.predict(X_validation)\n",
    "\n",
    "from sklearn.metrics import r2_score\n",
    "print(f'R2 Score: {r2_score(y_validation, y_pred_validation)}')"
   ]
  },
  {
   "cell_type": "markdown",
   "metadata": {},
   "source": [
    "R2 score of `SimpleRNN` reaches `84.53%`, the model seems pretty good on forecasting the trades. That being said, let's try another types of layers to see the best performance."
   ]
  },
  {
   "cell_type": "markdown",
   "metadata": {},
   "source": [
    "## Build and Train an LSTM Model\n",
    "\n",
    "Let's compare the model when we change the `SimpleRNN` to `LSTM` and `GRU`"
   ]
  },
  {
   "cell_type": "code",
   "execution_count": 8,
   "metadata": {},
   "outputs": [
    {
     "name": "stdout",
     "output_type": "stream",
     "text": [
      "Model: \"sequential_1\"\n",
      "_________________________________________________________________\n",
      " Layer (type)                Output Shape              Param #   \n",
      "=================================================================\n",
      " lstm (LSTM)                 (None, 10)                840       \n",
      "                                                                 \n",
      " dense_2 (Dense)             (None, 10)                110       \n",
      "                                                                 \n",
      " dense_3 (Dense)             (None, 1)                 11        \n",
      "                                                                 \n",
      "=================================================================\n",
      "Total params: 961\n",
      "Trainable params: 961\n",
      "Non-trainable params: 0\n",
      "_________________________________________________________________\n",
      "14/14 [==============================] - 0s 1ms/step\n",
      "R2 Score: 0.7831018404801928\n"
     ]
    }
   ],
   "source": [
    "import tensorflow as tf\n",
    "from tensorflow.keras import layers\n",
    "\n",
    "model = tf.keras.Sequential()\n",
    "\n",
    "model.add(layers.LSTM(10,\n",
    "    input_shape = (1, window_size),\n",
    "    activation = 'relu'))\n",
    "model.add(layers.Dense(10, activation='relu'))\n",
    "model.add(layers.Dense(1))\n",
    "\n",
    "model.compile(optimizer='adam',\n",
    "              loss='mean_squared_error')\n",
    "\n",
    "model.summary()\n",
    "\n",
    "model.fit(X_train, y_train, epochs=10, verbose=0)\n",
    "\n",
    "y_pred_validation = model.predict(X_validation)\n",
    "\n",
    "from sklearn.metrics import r2_score\n",
    "print(f'R2 Score: {r2_score(y_validation, y_pred_validation)}')"
   ]
  },
  {
   "cell_type": "markdown",
   "metadata": {},
   "source": [
    "With R2 score of `78.31%` in `LSTM`, it may seem that `SimpleRNN` has a better performance in forecasting the trades. But we're dealing with time-series sequential data, and `LSTM` is better in handling it relative to `SimpleRNN` in the way that it handles memory and dependencies between time steps. Therefore, we'll stick to `LSTM` for now."
   ]
  },
  {
   "cell_type": "markdown",
   "metadata": {},
   "source": [
    "## Add a Convolutional Layer\n",
    "\n",
    "Let's try adding a convolutional layer before the `LSTM` layer and see if that makes a difference."
   ]
  },
  {
   "cell_type": "code",
   "execution_count": 9,
   "metadata": {},
   "outputs": [
    {
     "name": "stdout",
     "output_type": "stream",
     "text": [
      "Model: \"sequential_2\"\n",
      "_________________________________________________________________\n",
      " Layer (type)                Output Shape              Param #   \n",
      "=================================================================\n",
      " conv1d (Conv1D)             (None, 1, 64)             704       \n",
      "                                                                 \n",
      " max_pooling1d (MaxPooling1D  (None, 1, 64)            0         \n",
      " )                                                               \n",
      "                                                                 \n",
      " lstm_1 (LSTM)               (None, 10)                3000      \n",
      "                                                                 \n",
      " dense_4 (Dense)             (None, 10)                110       \n",
      "                                                                 \n",
      " dense_5 (Dense)             (None, 1)                 11        \n",
      "                                                                 \n",
      "=================================================================\n",
      "Total params: 3,825\n",
      "Trainable params: 3,825\n",
      "Non-trainable params: 0\n",
      "_________________________________________________________________\n",
      "14/14 [==============================] - 0s 2ms/step\n",
      "R2 Score: 0.8556668911659637\n"
     ]
    }
   ],
   "source": [
    "model = tf.keras.Sequential()\n",
    "\n",
    "model.add(layers.Conv1D(64, 1, activation='relu',\n",
    "    input_shape = (1, window_size)))\n",
    "model.add(layers.MaxPooling1D(1))\n",
    "model.add(layers.LSTM(10, activation = 'relu'))\n",
    "model.add(layers.Dense(10, activation='relu'))\n",
    "model.add(layers.Dense(1))\n",
    "\n",
    "model.compile(optimizer='adam',\n",
    "              loss='mean_squared_error')\n",
    "\n",
    "model.summary()\n",
    "\n",
    "model.fit(X_train, y_train, epochs=10, verbose=0)\n",
    "\n",
    "y_pred_validation = model.predict(X_validation)\n",
    "\n",
    "from sklearn.metrics import r2_score\n",
    "print(f'R2 Score: {r2_score(y_validation, y_pred_validation)}')"
   ]
  },
  {
   "cell_type": "markdown",
   "metadata": {},
   "source": [
    "With R2 score of `85.57%` with `Conv1D`, an addition of `Conv1D` makes the `LSTM` model performance a little bit better. We can amp it up further with model optimization--we're looking for as adequate number of parameters possible yet with the best performance."
   ]
  },
  {
   "cell_type": "markdown",
   "metadata": {},
   "source": [
    "## Optimize the Model\n",
    "\n",
    "We can optimize the model even more through several parameters:\n",
    "\n",
    "* Window size\n",
    "* Number of hidden layers\n",
    "* Number of nodes per hidden layer\n",
    "* Type of recurrent layer (`SimpleRNN`, `LSTM`, GRU`\n",
    "* Inclusion (or not) of a convolutional layer\n",
    "* Activation function used at each layer\n",
    "* Optimizer\n",
    "* Loss function\n",
    "* Number of epochs"
   ]
  },
  {
   "cell_type": "code",
   "execution_count": 10,
   "metadata": {},
   "outputs": [
    {
     "name": "stdout",
     "output_type": "stream",
     "text": [
      "Model: \"sequential_3\"\n",
      "_________________________________________________________________\n",
      " Layer (type)                Output Shape              Param #   \n",
      "=================================================================\n",
      " lstm_2 (LSTM)               (None, 48)                11712     \n",
      "                                                                 \n",
      " dense_6 (Dense)             (None, 24)                1176      \n",
      "                                                                 \n",
      " dense_7 (Dense)             (None, 24)                600       \n",
      "                                                                 \n",
      " dense_8 (Dense)             (None, 1)                 25        \n",
      "                                                                 \n",
      "=================================================================\n",
      "Total params: 13,513\n",
      "Trainable params: 13,513\n",
      "Non-trainable params: 0\n",
      "_________________________________________________________________\n",
      "14/14 [==============================] - 0s 1ms/step\n",
      "R2 Score: 0.9554911074798974\n"
     ]
    }
   ],
   "source": [
    "# Set the desired window_size\n",
    "window_size = 12\n",
    "\n",
    "# Apply the function to each set\n",
    "X_train, y_train = create_dataset(train, window_size)\n",
    "X_validation, y_validation = create_dataset(validation, window_size)\n",
    "X_test, y_test = create_dataset(test, window_size)\n",
    "\n",
    "# `Reshape` the data into NumPy arrays\n",
    "X_train = np.reshape(X_train, \n",
    "    (X_train.shape[0], 1, X_train.shape[1]))\n",
    "X_validation = np.reshape(X_validation, \n",
    "    (X_validation.shape[0], 1, X_validation.shape[1]))\n",
    "X_test = np.reshape(X_test, \n",
    "    (X_test.shape[0], 1, X_test.shape[1]))\n",
    "\n",
    "model = tf.keras.Sequential()\n",
    "\n",
    "model.add(layers.LSTM(48,\n",
    "    input_shape = (1, window_size),\n",
    "    activation = 'relu'))\n",
    "model.add(layers.Dense(24, activation='relu'))\n",
    "model.add(layers.Dense(24, activation='relu'))\n",
    "model.add(layers.Dense(1))\n",
    "\n",
    "model.compile(optimizer='adam',\n",
    "              loss='mean_squared_error')\n",
    "\n",
    "model.summary()\n",
    "\n",
    "model.fit(X_train, y_train, epochs=36, verbose=0)\n",
    "\n",
    "y_pred_validation = model.predict(X_validation)\n",
    "\n",
    "from sklearn.metrics import r2_score\n",
    "print(f'R2 Score: {r2_score(y_validation, y_pred_validation)}')"
   ]
  },
  {
   "cell_type": "markdown",
   "metadata": {},
   "source": [
    "We've optimized the model with several modifications of parameters:\n",
    "\n",
    "* `window_size` changed from `10` to `12`,\n",
    "* An addition of `1` hidden layer (total `2`)\n",
    "* Sequence of nodes (from input to output) : `48-24-24-1`\n",
    "* Not adding a `Conv1D` layer for less amount of total parameters\n",
    "\n",
    "This modified model increases the R2 score from `85.57%` to `95.55%`, really impressive! Now let's evaluate the performance with our test set."
   ]
  },
  {
   "cell_type": "markdown",
   "metadata": {},
   "source": [
    "## Evaluate Model Performance"
   ]
  },
  {
   "cell_type": "code",
   "execution_count": 11,
   "metadata": {},
   "outputs": [
    {
     "name": "stdout",
     "output_type": "stream",
     "text": [
      "29/29 [==============================] - 0s 1ms/step\n",
      "14/14 [==============================] - 0s 1ms/step\n",
      "14/14 [==============================] - 0s 1ms/step\n",
      "R2 Score, Training Set: 0.9954920399938146\n",
      "R2 Score, Validation Set: 0.9554911074798974\n",
      "R2 Score, Training Set: 0.9432145886706381\n"
     ]
    }
   ],
   "source": [
    "# Make predictions on all three sets:\n",
    "train_pred      = model.predict(X_train)\n",
    "validation_pred = model.predict(X_validation)\n",
    "test_pred       = model.predict(X_test)\n",
    "\n",
    "print(f'R2 Score, Training Set: {r2_score(y_train, train_pred)}')\n",
    "print(f'R2 Score, Validation Set: {r2_score(y_validation, validation_pred)}')\n",
    "print(f'R2 Score, Training Set: {r2_score(y_test, test_pred)}')"
   ]
  },
  {
   "cell_type": "markdown",
   "metadata": {},
   "source": [
    "The R2 scores hold up in all sets, with accuracy more than `94%`--a great sign!\n",
    "\n",
    "Now it's time to visualize the performance. First up, we need to undo the scaling and windowing pre-processing we've done."
   ]
  },
  {
   "cell_type": "code",
   "execution_count": 12,
   "metadata": {},
   "outputs": [],
   "source": [
    "# Un-scale the predictions\n",
    "train_pred = scaler.inverse_transform(train_pred)\n",
    "validation_pred = scaler.inverse_transform(validation_pred)\n",
    "test_pred = scaler.inverse_transform(test_pred)\n",
    "\n",
    "# Un-window the training predictions\n",
    "plot_train_pred = np.empty((len(df), 1))\n",
    "plot_train_pred[:] = np.nan\n",
    "plot_train_pred[\n",
    "    window_size \n",
    "  : len(train_pred) + (1 * window_size) + 0, \n",
    "  : ] = train_pred\n",
    "\n",
    "# Un-window the validation predictions\n",
    "plot_validation_pred = np.empty((len(df), 1))\n",
    "plot_validation_pred[:] = np.nan\n",
    "plot_validation_pred[\n",
    "    len(train_pred) + (2 * window_size) + 1 \n",
    "  : len(train_pred) + len(validation_pred) + (window_size * 2) + 1, \n",
    "  : ] = validation_pred\n",
    "\n",
    "# Un-window the test predictions\n",
    "plot_test_pred = np.empty((len(df), 1))\n",
    "plot_test_pred[:] = np.nan\n",
    "plot_test_pred[\n",
    "    len(train_pred) + len(validation_pred) + (3 * window_size) + 2\n",
    "  : len(df) - 1, \n",
    "  : ] = test_pred"
   ]
  },
  {
   "cell_type": "markdown",
   "metadata": {},
   "source": [
    "Last but not least, let's plot the un-scaled and un-windowed data on top of `df` set."
   ]
  },
  {
   "cell_type": "code",
   "execution_count": 13,
   "metadata": {},
   "outputs": [
    {
     "data": {
      "image/png": "[encoded data removed]",
      "text/plain": [
       "<Figure size 640x480 with 1 Axes>"
      ]
     },
     "metadata": {},
     "output_type": "display_data"
    }
   ],
   "source": [
    "# Plot the original data\n",
    "plt.plot(df, label='Original Data')\n",
    "\n",
    "# Plot the predictions\n",
    "plt.plot(plot_train_pred, label = 'Training Set Predictions')\n",
    "plt.plot(plot_validation_pred, label = 'Validation Set Predictions')\n",
    "plt.plot(plot_test_pred, label = 'Test Set Predictions')\n",
    "\n",
    "# Add title, axis labels, and a legend\n",
    "plt.title('S&P 500 Index Forecast')\n",
    "plt.xlabel('Date')\n",
    "plt.xticks(rotation=45)\n",
    "plt.gca().xaxis.set_major_locator(mdates.YearLocator())\n",
    "plt.gcf().autofmt_xdate()\n",
    "plt.ylabel('Adjusted Close')\n",
    "plt.legend()\n",
    "plt.show()"
   ]
  },
  {
   "cell_type": "markdown",
   "metadata": {},
   "source": [
    "The prediction in picture looks awesome! We can see tiny bits of blue (original data) on yellow (training set predictions), which indicates slight difference. But overall the predictions are good!\n",
    "\n",
    "The real test of course being to make some predictions for the future and do some trades. At this point we're only predicting the cases. Be cautious when you're using this for reference since this project was only for educational purposes 😁"
   ]
  }
 ],
 "metadata": {
  "kernelspec": {
   "display_name": "Python 3 (ipykernel)",
   "language": "python",
   "name": "python3"
  },
  "language_info": {
   "codemirror_mode": {
    "name": "ipython",
    "version": 3
   },
   "file_extension": ".py",
   "mimetype": "text/x-python",
   "name": "python",
   "nbconvert_exporter": "python",
   "pygments_lexer": "ipython3",
   "version": "3.11.5"
  }
 },
 "nbformat": 4,
 "nbformat_minor": 4
}
