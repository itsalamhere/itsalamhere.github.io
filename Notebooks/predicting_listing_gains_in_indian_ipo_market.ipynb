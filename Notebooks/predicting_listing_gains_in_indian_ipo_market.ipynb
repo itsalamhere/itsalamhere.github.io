{
 "cells": [
  {
   "cell_type": "markdown",
   "metadata": {},
   "source": [
    "# Predicting Listing Gains in the Indian IPO Market\n",
    "\n",
    "In this project we're predicting listing IPO market in India using deep learning in TensorFlow. The dataset contans information on past IPOs in the Indian market from [moneycontrol](https://www.moneycontrol.com/ipo/listed-ipos/?classic=true) "
   ]
  },
  {
   "cell_type": "code",
   "execution_count": 2,
   "metadata": {},
   "outputs": [
    {
     "name": "stderr",
     "output_type": "stream",
     "text": [
      "2024-02-18 15:11:09.855832: E tensorflow/stream_executor/cuda/cuda_blas.cc:2981] Unable to register cuBLAS factory: Attempting to register factory for plugin cuBLAS when one has already been registered\n"
     ]
    }
   ],
   "source": [
    "# Importing required libraries:\n",
    "# we'll recall it later to pinpoint where it's used.\n",
    "\n",
    "# General modules:\n",
    "import numpy as np\n",
    "import pandas as pd\n",
    "import seaborn as sns\n",
    "import matplotlib.pyplot as plt\n",
    "import tensorflow as tf\n",
    "\n",
    "# Modules for deep learning purposes:\n",
    "from tensorflow import keras\n",
    "from tensorflow.keras import layers\n",
    "from sklearn.model_selection import train_test_split\n",
    "from sklearn.metrics import mean_squared_error\n",
    "from math import sqrt"
   ]
  },
  {
   "cell_type": "code",
   "execution_count": 3,
   "metadata": {},
   "outputs": [
    {
     "name": "stdout",
     "output_type": "stream",
     "text": [
      "(319, 9)\n"
     ]
    }
   ],
   "source": [
    "df = pd.read_csv('Indian_IPO_Market_Data.csv')\n",
    "print(df.shape)"
   ]
  },
  {
   "cell_type": "code",
   "execution_count": 4,
   "metadata": {},
   "outputs": [
    {
     "data": {
      "text/html": [
       "<div>\n",
       "<style scoped>\n",
       "    .dataframe tbody tr th:only-of-type {\n",
       "        vertical-align: middle;\n",
       "    }\n",
       "\n",
       "    .dataframe tbody tr th {\n",
       "        vertical-align: top;\n",
       "    }\n",
       "\n",
       "    .dataframe thead th {\n",
       "        text-align: right;\n",
       "    }\n",
       "</style>\n",
       "<table border=\"1\" class=\"dataframe\">\n",
       "  <thead>\n",
       "    <tr style=\"text-align: right;\">\n",
       "      <th></th>\n",
       "      <th>Date</th>\n",
       "      <th>IPOName</th>\n",
       "      <th>Issue_Size</th>\n",
       "      <th>Subscription_QIB</th>\n",
       "      <th>Subscription_HNI</th>\n",
       "      <th>Subscription_RII</th>\n",
       "      <th>Subscription_Total</th>\n",
       "      <th>Issue_Price</th>\n",
       "      <th>Listing_Gains_Percent</th>\n",
       "    </tr>\n",
       "  </thead>\n",
       "  <tbody>\n",
       "    <tr>\n",
       "      <th>0</th>\n",
       "      <td>03/02/10</td>\n",
       "      <td>Infinite Comp</td>\n",
       "      <td>189.80</td>\n",
       "      <td>48.44</td>\n",
       "      <td>106.02</td>\n",
       "      <td>11.08</td>\n",
       "      <td>43.22</td>\n",
       "      <td>165</td>\n",
       "      <td>11.82</td>\n",
       "    </tr>\n",
       "    <tr>\n",
       "      <th>1</th>\n",
       "      <td>08/02/10</td>\n",
       "      <td>Jubilant Food</td>\n",
       "      <td>328.70</td>\n",
       "      <td>59.39</td>\n",
       "      <td>51.95</td>\n",
       "      <td>3.79</td>\n",
       "      <td>31.11</td>\n",
       "      <td>145</td>\n",
       "      <td>-84.21</td>\n",
       "    </tr>\n",
       "    <tr>\n",
       "      <th>2</th>\n",
       "      <td>15/02/10</td>\n",
       "      <td>Syncom Health</td>\n",
       "      <td>56.25</td>\n",
       "      <td>0.99</td>\n",
       "      <td>16.60</td>\n",
       "      <td>6.25</td>\n",
       "      <td>5.17</td>\n",
       "      <td>75</td>\n",
       "      <td>17.13</td>\n",
       "    </tr>\n",
       "    <tr>\n",
       "      <th>3</th>\n",
       "      <td>15/02/10</td>\n",
       "      <td>Vascon Engineer</td>\n",
       "      <td>199.80</td>\n",
       "      <td>1.12</td>\n",
       "      <td>3.65</td>\n",
       "      <td>0.62</td>\n",
       "      <td>1.22</td>\n",
       "      <td>165</td>\n",
       "      <td>-11.28</td>\n",
       "    </tr>\n",
       "    <tr>\n",
       "      <th>4</th>\n",
       "      <td>19/02/10</td>\n",
       "      <td>Thangamayil</td>\n",
       "      <td>0.00</td>\n",
       "      <td>0.52</td>\n",
       "      <td>1.52</td>\n",
       "      <td>2.26</td>\n",
       "      <td>1.12</td>\n",
       "      <td>75</td>\n",
       "      <td>-5.20</td>\n",
       "    </tr>\n",
       "  </tbody>\n",
       "</table>\n",
       "</div>"
      ],
      "text/plain": [
       "      Date           IPOName  Issue_Size  Subscription_QIB  Subscription_HNI  \\\n",
       "0  03/02/10    Infinite Comp      189.80             48.44            106.02   \n",
       "1  08/02/10    Jubilant Food      328.70             59.39             51.95   \n",
       "2  15/02/10    Syncom Health       56.25              0.99             16.60   \n",
       "3  15/02/10  Vascon Engineer      199.80              1.12              3.65   \n",
       "4  19/02/10      Thangamayil        0.00              0.52              1.52   \n",
       "\n",
       "   Subscription_RII  Subscription_Total  Issue_Price  Listing_Gains_Percent  \n",
       "0             11.08               43.22          165                  11.82  \n",
       "1              3.79               31.11          145                 -84.21  \n",
       "2              6.25                5.17           75                  17.13  \n",
       "3              0.62                1.22          165                 -11.28  \n",
       "4              2.26                1.12           75                  -5.20  "
      ]
     },
     "execution_count": 4,
     "metadata": {},
     "output_type": "execute_result"
    }
   ],
   "source": [
    "df.head()"
   ]
  },
  {
   "cell_type": "code",
   "execution_count": 5,
   "metadata": {},
   "outputs": [
    {
     "data": {
      "text/html": [
       "<div>\n",
       "<style scoped>\n",
       "    .dataframe tbody tr th:only-of-type {\n",
       "        vertical-align: middle;\n",
       "    }\n",
       "\n",
       "    .dataframe tbody tr th {\n",
       "        vertical-align: top;\n",
       "    }\n",
       "\n",
       "    .dataframe thead th {\n",
       "        text-align: right;\n",
       "    }\n",
       "</style>\n",
       "<table border=\"1\" class=\"dataframe\">\n",
       "  <thead>\n",
       "    <tr style=\"text-align: right;\">\n",
       "      <th></th>\n",
       "      <th>Date</th>\n",
       "      <th>IPOName</th>\n",
       "      <th>Issue_Size</th>\n",
       "      <th>Subscription_QIB</th>\n",
       "      <th>Subscription_HNI</th>\n",
       "      <th>Subscription_RII</th>\n",
       "      <th>Subscription_Total</th>\n",
       "      <th>Issue_Price</th>\n",
       "      <th>Listing_Gains_Percent</th>\n",
       "    </tr>\n",
       "  </thead>\n",
       "  <tbody>\n",
       "    <tr>\n",
       "      <th>314</th>\n",
       "      <td>26/08/22</td>\n",
       "      <td>Syrma SGS</td>\n",
       "      <td>840.13</td>\n",
       "      <td>42.42</td>\n",
       "      <td>7.13</td>\n",
       "      <td>2.84</td>\n",
       "      <td>15.59</td>\n",
       "      <td>220</td>\n",
       "      <td>42.30</td>\n",
       "    </tr>\n",
       "    <tr>\n",
       "      <th>315</th>\n",
       "      <td>06/09/22</td>\n",
       "      <td>Dreamfolks Serv</td>\n",
       "      <td>562.10</td>\n",
       "      <td>27.48</td>\n",
       "      <td>14.18</td>\n",
       "      <td>24.19</td>\n",
       "      <td>23.25</td>\n",
       "      <td>326</td>\n",
       "      <td>41.92</td>\n",
       "    </tr>\n",
       "    <tr>\n",
       "      <th>316</th>\n",
       "      <td>15/09/22</td>\n",
       "      <td>TMB</td>\n",
       "      <td>792.00</td>\n",
       "      <td>0.51</td>\n",
       "      <td>1.77</td>\n",
       "      <td>3.44</td>\n",
       "      <td>1.39</td>\n",
       "      <td>525</td>\n",
       "      <td>-3.15</td>\n",
       "    </tr>\n",
       "    <tr>\n",
       "      <th>317</th>\n",
       "      <td>26/09/22</td>\n",
       "      <td>Harsha Engineer</td>\n",
       "      <td>755.00</td>\n",
       "      <td>113.82</td>\n",
       "      <td>40.36</td>\n",
       "      <td>12.44</td>\n",
       "      <td>47.19</td>\n",
       "      <td>330</td>\n",
       "      <td>47.24</td>\n",
       "    </tr>\n",
       "    <tr>\n",
       "      <th>318</th>\n",
       "      <td>17/10/22</td>\n",
       "      <td>Electronics Mar</td>\n",
       "      <td>500.00</td>\n",
       "      <td>58.81</td>\n",
       "      <td>15.39</td>\n",
       "      <td>8.27</td>\n",
       "      <td>24.23</td>\n",
       "      <td>59</td>\n",
       "      <td>43.14</td>\n",
       "    </tr>\n",
       "  </tbody>\n",
       "</table>\n",
       "</div>"
      ],
      "text/plain": [
       "        Date           IPOName  Issue_Size  Subscription_QIB  \\\n",
       "314  26/08/22        Syrma SGS      840.13             42.42   \n",
       "315  06/09/22  Dreamfolks Serv      562.10             27.48   \n",
       "316  15/09/22              TMB      792.00              0.51   \n",
       "317  26/09/22  Harsha Engineer      755.00            113.82   \n",
       "318  17/10/22  Electronics Mar      500.00             58.81   \n",
       "\n",
       "     Subscription_HNI  Subscription_RII  Subscription_Total  Issue_Price  \\\n",
       "314              7.13              2.84               15.59          220   \n",
       "315             14.18             24.19               23.25          326   \n",
       "316              1.77              3.44                1.39          525   \n",
       "317             40.36             12.44               47.19          330   \n",
       "318             15.39              8.27               24.23           59   \n",
       "\n",
       "     Listing_Gains_Percent  \n",
       "314                  42.30  \n",
       "315                  41.92  \n",
       "316                  -3.15  \n",
       "317                  47.24  \n",
       "318                  43.14  "
      ]
     },
     "execution_count": 5,
     "metadata": {},
     "output_type": "execute_result"
    }
   ],
   "source": [
    "df.tail()"
   ]
  },
  {
   "cell_type": "code",
   "execution_count": 6,
   "metadata": {},
   "outputs": [
    {
     "data": {
      "text/plain": [
       "count    319.000000\n",
       "mean       4.742696\n",
       "std       47.650946\n",
       "min      -97.150000\n",
       "25%      -11.555000\n",
       "50%        1.810000\n",
       "75%       25.310000\n",
       "max      270.400000\n",
       "Name: Listing_Gains_Percent, dtype: float64"
      ]
     },
     "execution_count": 6,
     "metadata": {},
     "output_type": "execute_result"
    }
   ],
   "source": [
    "# Descriptive Statistics of Target\n",
    "df['Listing_Gains_Percent'].describe()"
   ]
  },
  {
   "cell_type": "markdown",
   "metadata": {},
   "source": [
    "## Exploring the Data\n",
    "\n",
    "We'll be making a deep learning classification if a company will have a listing gain from the numerical values within the dataset. However, our target variable, `Listing_Gains_Percent`, has continuous values. We'll be making a new categorical column that has `1` for positive values and `0` for negative values."
   ]
  },
  {
   "cell_type": "code",
   "execution_count": 7,
   "metadata": {},
   "outputs": [
    {
     "data": {
      "text/plain": [
       "1    54.545455\n",
       "0    45.454545\n",
       "Name: Listing_Gains_Profit, dtype: float64"
      ]
     },
     "execution_count": 7,
     "metadata": {},
     "output_type": "execute_result"
    }
   ],
   "source": [
    "df['Listing_Gains_Profit'] = np.where(\n",
    "    df['Listing_Gains_Percent'] > 0, 1, 0)\n",
    "\n",
    "df['Listing_Gains_Profit'].value_counts(normalize=True) * 100"
   ]
  },
  {
   "cell_type": "code",
   "execution_count": 8,
   "metadata": {},
   "outputs": [
    {
     "data": {
      "text/plain": [
       "Date                     0\n",
       "IPOName                  0\n",
       "Issue_Size               0\n",
       "Subscription_QIB         0\n",
       "Subscription_HNI         0\n",
       "Subscription_RII         0\n",
       "Subscription_Total       0\n",
       "Issue_Price              0\n",
       "Listing_Gains_Percent    0\n",
       "Listing_Gains_Profit     0\n",
       "dtype: int64"
      ]
     },
     "execution_count": 8,
     "metadata": {},
     "output_type": "execute_result"
    }
   ],
   "source": [
    "# Any missing values?\n",
    "df.isna().sum()"
   ]
  },
  {
   "cell_type": "markdown",
   "metadata": {},
   "source": [
    "We've defined our categorical target and by counting the values, we can see that an average IPO tends to list a profit with a percentage of 54,54%. \n",
    "\n",
    "We now can look for summary statistics to tell which columns we use for modeling."
   ]
  },
  {
   "cell_type": "code",
   "execution_count": 9,
   "metadata": {},
   "outputs": [
    {
     "data": {
      "text/html": [
       "<div>\n",
       "<style scoped>\n",
       "    .dataframe tbody tr th:only-of-type {\n",
       "        vertical-align: middle;\n",
       "    }\n",
       "\n",
       "    .dataframe tbody tr th {\n",
       "        vertical-align: top;\n",
       "    }\n",
       "\n",
       "    .dataframe thead th {\n",
       "        text-align: right;\n",
       "    }\n",
       "</style>\n",
       "<table border=\"1\" class=\"dataframe\">\n",
       "  <thead>\n",
       "    <tr style=\"text-align: right;\">\n",
       "      <th></th>\n",
       "      <th>Date</th>\n",
       "      <th>IPOName</th>\n",
       "      <th>Issue_Size</th>\n",
       "      <th>Subscription_QIB</th>\n",
       "      <th>Subscription_HNI</th>\n",
       "      <th>Subscription_RII</th>\n",
       "      <th>Subscription_Total</th>\n",
       "      <th>Issue_Price</th>\n",
       "      <th>Listing_Gains_Percent</th>\n",
       "      <th>Listing_Gains_Profit</th>\n",
       "    </tr>\n",
       "  </thead>\n",
       "  <tbody>\n",
       "    <tr>\n",
       "      <th>count</th>\n",
       "      <td>319</td>\n",
       "      <td>319</td>\n",
       "      <td>319.000000</td>\n",
       "      <td>319.000000</td>\n",
       "      <td>319.000000</td>\n",
       "      <td>319.000000</td>\n",
       "      <td>319.000000</td>\n",
       "      <td>319.000000</td>\n",
       "      <td>319.000000</td>\n",
       "      <td>319.000000</td>\n",
       "    </tr>\n",
       "    <tr>\n",
       "      <th>unique</th>\n",
       "      <td>287</td>\n",
       "      <td>319</td>\n",
       "      <td>NaN</td>\n",
       "      <td>NaN</td>\n",
       "      <td>NaN</td>\n",
       "      <td>NaN</td>\n",
       "      <td>NaN</td>\n",
       "      <td>NaN</td>\n",
       "      <td>NaN</td>\n",
       "      <td>NaN</td>\n",
       "    </tr>\n",
       "    <tr>\n",
       "      <th>top</th>\n",
       "      <td>16/08/21</td>\n",
       "      <td>Infinite Comp</td>\n",
       "      <td>NaN</td>\n",
       "      <td>NaN</td>\n",
       "      <td>NaN</td>\n",
       "      <td>NaN</td>\n",
       "      <td>NaN</td>\n",
       "      <td>NaN</td>\n",
       "      <td>NaN</td>\n",
       "      <td>NaN</td>\n",
       "    </tr>\n",
       "    <tr>\n",
       "      <th>freq</th>\n",
       "      <td>4</td>\n",
       "      <td>1</td>\n",
       "      <td>NaN</td>\n",
       "      <td>NaN</td>\n",
       "      <td>NaN</td>\n",
       "      <td>NaN</td>\n",
       "      <td>NaN</td>\n",
       "      <td>NaN</td>\n",
       "      <td>NaN</td>\n",
       "      <td>NaN</td>\n",
       "    </tr>\n",
       "    <tr>\n",
       "      <th>mean</th>\n",
       "      <td>NaN</td>\n",
       "      <td>NaN</td>\n",
       "      <td>1192.859969</td>\n",
       "      <td>25.684138</td>\n",
       "      <td>70.091379</td>\n",
       "      <td>8.561599</td>\n",
       "      <td>27.447147</td>\n",
       "      <td>375.128527</td>\n",
       "      <td>4.742696</td>\n",
       "      <td>0.545455</td>\n",
       "    </tr>\n",
       "    <tr>\n",
       "      <th>std</th>\n",
       "      <td>NaN</td>\n",
       "      <td>NaN</td>\n",
       "      <td>2384.643786</td>\n",
       "      <td>40.716782</td>\n",
       "      <td>142.454416</td>\n",
       "      <td>14.508670</td>\n",
       "      <td>48.772203</td>\n",
       "      <td>353.897614</td>\n",
       "      <td>47.650946</td>\n",
       "      <td>0.498712</td>\n",
       "    </tr>\n",
       "    <tr>\n",
       "      <th>min</th>\n",
       "      <td>NaN</td>\n",
       "      <td>NaN</td>\n",
       "      <td>0.000000</td>\n",
       "      <td>0.000000</td>\n",
       "      <td>0.000000</td>\n",
       "      <td>0.000000</td>\n",
       "      <td>0.000000</td>\n",
       "      <td>0.000000</td>\n",
       "      <td>-97.150000</td>\n",
       "      <td>0.000000</td>\n",
       "    </tr>\n",
       "    <tr>\n",
       "      <th>25%</th>\n",
       "      <td>NaN</td>\n",
       "      <td>NaN</td>\n",
       "      <td>169.005000</td>\n",
       "      <td>1.150000</td>\n",
       "      <td>1.255000</td>\n",
       "      <td>1.275000</td>\n",
       "      <td>1.645000</td>\n",
       "      <td>119.000000</td>\n",
       "      <td>-11.555000</td>\n",
       "      <td>0.000000</td>\n",
       "    </tr>\n",
       "    <tr>\n",
       "      <th>50%</th>\n",
       "      <td>NaN</td>\n",
       "      <td>NaN</td>\n",
       "      <td>496.250000</td>\n",
       "      <td>4.940000</td>\n",
       "      <td>5.070000</td>\n",
       "      <td>3.420000</td>\n",
       "      <td>4.930000</td>\n",
       "      <td>250.000000</td>\n",
       "      <td>1.810000</td>\n",
       "      <td>1.000000</td>\n",
       "    </tr>\n",
       "    <tr>\n",
       "      <th>75%</th>\n",
       "      <td>NaN</td>\n",
       "      <td>NaN</td>\n",
       "      <td>1100.000000</td>\n",
       "      <td>34.635000</td>\n",
       "      <td>62.095000</td>\n",
       "      <td>8.605000</td>\n",
       "      <td>33.395000</td>\n",
       "      <td>536.000000</td>\n",
       "      <td>25.310000</td>\n",
       "      <td>1.000000</td>\n",
       "    </tr>\n",
       "    <tr>\n",
       "      <th>max</th>\n",
       "      <td>NaN</td>\n",
       "      <td>NaN</td>\n",
       "      <td>21000.000000</td>\n",
       "      <td>215.450000</td>\n",
       "      <td>958.070000</td>\n",
       "      <td>119.440000</td>\n",
       "      <td>326.490000</td>\n",
       "      <td>2150.000000</td>\n",
       "      <td>270.400000</td>\n",
       "      <td>1.000000</td>\n",
       "    </tr>\n",
       "  </tbody>\n",
       "</table>\n",
       "</div>"
      ],
      "text/plain": [
       "           Date         IPOName    Issue_Size  Subscription_QIB  \\\n",
       "count        319            319    319.000000        319.000000   \n",
       "unique       287            319           NaN               NaN   \n",
       "top     16/08/21  Infinite Comp           NaN               NaN   \n",
       "freq           4              1           NaN               NaN   \n",
       "mean         NaN            NaN   1192.859969         25.684138   \n",
       "std          NaN            NaN   2384.643786         40.716782   \n",
       "min          NaN            NaN      0.000000          0.000000   \n",
       "25%          NaN            NaN    169.005000          1.150000   \n",
       "50%          NaN            NaN    496.250000          4.940000   \n",
       "75%          NaN            NaN   1100.000000         34.635000   \n",
       "max          NaN            NaN  21000.000000        215.450000   \n",
       "\n",
       "        Subscription_HNI  Subscription_RII  Subscription_Total  Issue_Price  \\\n",
       "count         319.000000        319.000000          319.000000   319.000000   \n",
       "unique               NaN               NaN                 NaN          NaN   \n",
       "top                  NaN               NaN                 NaN          NaN   \n",
       "freq                 NaN               NaN                 NaN          NaN   \n",
       "mean           70.091379          8.561599           27.447147   375.128527   \n",
       "std           142.454416         14.508670           48.772203   353.897614   \n",
       "min             0.000000          0.000000            0.000000     0.000000   \n",
       "25%             1.255000          1.275000            1.645000   119.000000   \n",
       "50%             5.070000          3.420000            4.930000   250.000000   \n",
       "75%            62.095000          8.605000           33.395000   536.000000   \n",
       "max           958.070000        119.440000          326.490000  2150.000000   \n",
       "\n",
       "        Listing_Gains_Percent  Listing_Gains_Profit  \n",
       "count              319.000000            319.000000  \n",
       "unique                    NaN                   NaN  \n",
       "top                       NaN                   NaN  \n",
       "freq                      NaN                   NaN  \n",
       "mean                 4.742696              0.545455  \n",
       "std                 47.650946              0.498712  \n",
       "min                -97.150000              0.000000  \n",
       "25%                -11.555000              0.000000  \n",
       "50%                  1.810000              1.000000  \n",
       "75%                 25.310000              1.000000  \n",
       "max                270.400000              1.000000  "
      ]
     },
     "execution_count": 9,
     "metadata": {},
     "output_type": "execute_result"
    }
   ],
   "source": [
    "# All descriptive statistics:\n",
    "df.describe(include='all')"
   ]
  },
  {
   "cell_type": "markdown",
   "metadata": {},
   "source": [
    "* We apparently don't need ordinal values for this, therefore we can drop `Date` and `IPOName`\n",
    "* We've assigned our categorical target either, so we can delete `Listing_Gains_Percent`."
   ]
  },
  {
   "cell_type": "code",
   "execution_count": 10,
   "metadata": {},
   "outputs": [
    {
     "name": "stdout",
     "output_type": "stream",
     "text": [
      "<class 'pandas.core.frame.DataFrame'>\n",
      "RangeIndex: 319 entries, 0 to 318\n",
      "Data columns (total 7 columns):\n",
      " #   Column                Non-Null Count  Dtype  \n",
      "---  ------                --------------  -----  \n",
      " 0   Issue_Size            319 non-null    float64\n",
      " 1   Subscription_QIB      319 non-null    float64\n",
      " 2   Subscription_HNI      319 non-null    float64\n",
      " 3   Subscription_RII      319 non-null    float64\n",
      " 4   Subscription_Total    319 non-null    float64\n",
      " 5   Issue_Price           319 non-null    int64  \n",
      " 6   Listing_Gains_Profit  319 non-null    int64  \n",
      "dtypes: float64(5), int64(2)\n",
      "memory usage: 17.6 KB\n"
     ]
    }
   ],
   "source": [
    "df = df.drop(['Date ', 'IPOName', 'Listing_Gains_Percent'], axis=1)\n",
    "df.info()"
   ]
  },
  {
   "cell_type": "markdown",
   "metadata": {},
   "source": [
    "## Data Visualization\n",
    "\n",
    "We can get more insights by making pictures of data visualization to see for distribution and correlation in columns."
   ]
  },
  {
   "cell_type": "code",
   "execution_count": 11,
   "metadata": {},
   "outputs": [
    {
     "data": {
      "image/png": "[encoded data removed]",
      "text/plain": [
       "<Figure size 640x480 with 1 Axes>"
      ]
     },
     "metadata": {},
     "output_type": "display_data"
    }
   ],
   "source": [
    "sns.countplot(data=df, x='Listing_Gains_Profit')\n",
    "plt.title('Distribution of IPO Listing Gaining Profit -- Category')\n",
    "plt.xlabel('Listing Profit (0=No, 1=Yes)')\n",
    "plt.ylabel('Frequency')\n",
    "plt.show()"
   ]
  },
  {
   "cell_type": "markdown",
   "metadata": {},
   "source": [
    "To check outliers, instead of looking on each histogram, we can look for its `skew()` or the tail in distribution first, and then we'll go from there. Left-skewed will have negative values and vice-versa. The higher the value shows how more skewed the distribution is."
   ]
  },
  {
   "cell_type": "code",
   "execution_count": 12,
   "metadata": {},
   "outputs": [
    {
     "data": {
      "text/plain": [
       "Issue_Size              4.853402\n",
       "Subscription_QIB        2.143705\n",
       "Subscription_HNI        3.078445\n",
       "Subscription_RII        3.708274\n",
       "Subscription_Total      2.911907\n",
       "Issue_Price             1.696881\n",
       "Listing_Gains_Profit   -0.183438\n",
       "dtype: float64"
      ]
     },
     "execution_count": 12,
     "metadata": {},
     "output_type": "execute_result"
    }
   ],
   "source": [
    "df.skew()"
   ]
  },
  {
   "cell_type": "markdown",
   "metadata": {},
   "source": [
    "Seems like each column does have outliers. We'll check it in parallel with the correlations."
   ]
  },
  {
   "cell_type": "code",
   "execution_count": 13,
   "metadata": {},
   "outputs": [
    {
     "data": {
      "image/png": "[encoded data removed]",
      "text/plain": [
       "<Figure size 640x480 with 1 Axes>"
      ]
     },
     "metadata": {},
     "output_type": "display_data"
    }
   ],
   "source": [
    "sns.boxplot(data=df, x='Listing_Gains_Profit', y='Issue_Price')\n",
    "plt.title('Companies Having Listing Profit respective to Issue Price')\n",
    "plt.show()"
   ]
  },
  {
   "cell_type": "code",
   "execution_count": 14,
   "metadata": {},
   "outputs": [
    {
     "data": {
      "image/png": "[encoded data removed]",
      "text/plain": [
       "<Figure size 640x480 with 1 Axes>"
      ]
     },
     "metadata": {},
     "output_type": "display_data"
    }
   ],
   "source": [
    "sns.boxplot(data=df, y='Issue_Size')\n",
    "plt.title('Boxplot of Issue_Size')\n",
    "plt.show()"
   ]
  },
  {
   "cell_type": "code",
   "execution_count": 15,
   "metadata": {},
   "outputs": [
    {
     "data": {
      "image/png": "[encoded data removed]",
      "text/plain": [
       "<Figure size 640x480 with 1 Axes>"
      ]
     },
     "metadata": {},
     "output_type": "display_data"
    }
   ],
   "source": [
    "subs = ['Subscription_QIB', 'Subscription_HNI',\n",
    "        'Subscription_RII', 'Subscription_Total']\n",
    "\n",
    "# Subscription_XXX Terms:\n",
    "## QIB  : Qualified Institutional Buyer\n",
    "## HNI  : High-Networth Individual\n",
    "## RII  : Retail Individual Investors\n",
    "## Total: Overall\n",
    "\n",
    "df[subs].boxplot()\n",
    "plt.xlabel('Variable')\n",
    "plt.ylabel('Value')\n",
    "plt.title('Boxplot Distribution of IPO Subscriptions')\n",
    "\n",
    "plt.grid(alpha=0.3)\n",
    "plt.show()"
   ]
  },
  {
   "cell_type": "markdown",
   "metadata": {},
   "source": [
    "Here are some findings:\n",
    "\n",
    "* There are a lot of outliers across the numerical values.\n",
    "\n",
    "* Apparently, there are more outliers in `Issue_Price` on companies that do not gain listing profit.\n",
    "\n",
    "* IPO subscriptions are dominated by High-Networth Individual (`Subscription_HNI`) on the collective boxplot."
   ]
  },
  {
   "cell_type": "markdown",
   "metadata": {},
   "source": [
    "## Outlier Treatment\n",
    "\n",
    "We can treat the outliers by using interquartile range to see values that is out of upper and lower bounds. For convenience, we can define the columns of `predictors` and `target_variables` early for clipping iterations. \n",
    "\n",
    "Notice that we don't include `Issue_Price` in this step. It's a fixed number attached to each company, so we'll leave it as is."
   ]
  },
  {
   "cell_type": "code",
   "execution_count": 16,
   "metadata": {},
   "outputs": [
    {
     "data": {
      "text/plain": [
       "['Subscription_HNI',\n",
       " 'Issue_Size',\n",
       " 'Subscription_QIB',\n",
       " 'Subscription_Total',\n",
       " 'Subscription_RII']"
      ]
     },
     "execution_count": 16,
     "metadata": {},
     "output_type": "execute_result"
    }
   ],
   "source": [
    "target_variable = ['Listing_Gains_Profit']\n",
    "issue_price = ['Issue_Price']\n",
    "\n",
    "predictors = list(set(list(df.columns)) - set(target_variable))\n",
    "clipped_cols = list(set(predictors) - set(issue_price))\n",
    "\n",
    "clipped_cols"
   ]
  },
  {
   "cell_type": "code",
   "execution_count": 17,
   "metadata": {},
   "outputs": [
    {
     "data": {
      "text/html": [
       "<div>\n",
       "<style scoped>\n",
       "    .dataframe tbody tr th:only-of-type {\n",
       "        vertical-align: middle;\n",
       "    }\n",
       "\n",
       "    .dataframe tbody tr th {\n",
       "        vertical-align: top;\n",
       "    }\n",
       "\n",
       "    .dataframe thead th {\n",
       "        text-align: right;\n",
       "    }\n",
       "</style>\n",
       "<table border=\"1\" class=\"dataframe\">\n",
       "  <thead>\n",
       "    <tr style=\"text-align: right;\">\n",
       "      <th></th>\n",
       "      <th>Issue_Size</th>\n",
       "      <th>Subscription_QIB</th>\n",
       "      <th>Subscription_HNI</th>\n",
       "      <th>Subscription_RII</th>\n",
       "      <th>Subscription_Total</th>\n",
       "      <th>Issue_Price</th>\n",
       "      <th>Listing_Gains_Profit</th>\n",
       "    </tr>\n",
       "  </thead>\n",
       "  <tbody>\n",
       "    <tr>\n",
       "      <th>count</th>\n",
       "      <td>319.000000</td>\n",
       "      <td>319.000000</td>\n",
       "      <td>319.000000</td>\n",
       "      <td>319.000000</td>\n",
       "      <td>319.000000</td>\n",
       "      <td>319.000000</td>\n",
       "      <td>319.000000</td>\n",
       "    </tr>\n",
       "    <tr>\n",
       "      <th>mean</th>\n",
       "      <td>763.561238</td>\n",
       "      <td>21.521183</td>\n",
       "      <td>40.356426</td>\n",
       "      <td>6.060940</td>\n",
       "      <td>20.456646</td>\n",
       "      <td>375.128527</td>\n",
       "      <td>0.545455</td>\n",
       "    </tr>\n",
       "    <tr>\n",
       "      <th>std</th>\n",
       "      <td>769.689122</td>\n",
       "      <td>29.104549</td>\n",
       "      <td>57.427921</td>\n",
       "      <td>6.176882</td>\n",
       "      <td>27.217740</td>\n",
       "      <td>353.897614</td>\n",
       "      <td>0.498712</td>\n",
       "    </tr>\n",
       "    <tr>\n",
       "      <th>min</th>\n",
       "      <td>0.000000</td>\n",
       "      <td>0.000000</td>\n",
       "      <td>0.000000</td>\n",
       "      <td>0.000000</td>\n",
       "      <td>0.000000</td>\n",
       "      <td>0.000000</td>\n",
       "      <td>0.000000</td>\n",
       "    </tr>\n",
       "    <tr>\n",
       "      <th>25%</th>\n",
       "      <td>169.005000</td>\n",
       "      <td>1.150000</td>\n",
       "      <td>1.255000</td>\n",
       "      <td>1.275000</td>\n",
       "      <td>1.645000</td>\n",
       "      <td>119.000000</td>\n",
       "      <td>0.000000</td>\n",
       "    </tr>\n",
       "    <tr>\n",
       "      <th>50%</th>\n",
       "      <td>496.250000</td>\n",
       "      <td>4.940000</td>\n",
       "      <td>5.070000</td>\n",
       "      <td>3.420000</td>\n",
       "      <td>4.930000</td>\n",
       "      <td>250.000000</td>\n",
       "      <td>1.000000</td>\n",
       "    </tr>\n",
       "    <tr>\n",
       "      <th>75%</th>\n",
       "      <td>1100.000000</td>\n",
       "      <td>34.635000</td>\n",
       "      <td>62.095000</td>\n",
       "      <td>8.605000</td>\n",
       "      <td>33.395000</td>\n",
       "      <td>536.000000</td>\n",
       "      <td>1.000000</td>\n",
       "    </tr>\n",
       "    <tr>\n",
       "      <th>max</th>\n",
       "      <td>2496.492500</td>\n",
       "      <td>84.862500</td>\n",
       "      <td>153.355000</td>\n",
       "      <td>19.600000</td>\n",
       "      <td>81.020000</td>\n",
       "      <td>2150.000000</td>\n",
       "      <td>1.000000</td>\n",
       "    </tr>\n",
       "  </tbody>\n",
       "</table>\n",
       "</div>"
      ],
      "text/plain": [
       "        Issue_Size  Subscription_QIB  Subscription_HNI  Subscription_RII  \\\n",
       "count   319.000000        319.000000        319.000000        319.000000   \n",
       "mean    763.561238         21.521183         40.356426          6.060940   \n",
       "std     769.689122         29.104549         57.427921          6.176882   \n",
       "min       0.000000          0.000000          0.000000          0.000000   \n",
       "25%     169.005000          1.150000          1.255000          1.275000   \n",
       "50%     496.250000          4.940000          5.070000          3.420000   \n",
       "75%    1100.000000         34.635000         62.095000          8.605000   \n",
       "max    2496.492500         84.862500        153.355000         19.600000   \n",
       "\n",
       "       Subscription_Total  Issue_Price  Listing_Gains_Profit  \n",
       "count          319.000000   319.000000            319.000000  \n",
       "mean            20.456646   375.128527              0.545455  \n",
       "std             27.217740   353.897614              0.498712  \n",
       "min              0.000000     0.000000              0.000000  \n",
       "25%              1.645000   119.000000              0.000000  \n",
       "50%              4.930000   250.000000              1.000000  \n",
       "75%             33.395000   536.000000              1.000000  \n",
       "max             81.020000  2150.000000              1.000000  "
      ]
     },
     "execution_count": 17,
     "metadata": {},
     "output_type": "execute_result"
    }
   ],
   "source": [
    "for col in clipped_cols:\n",
    "    \n",
    "    # Define the quartiles\n",
    "    q1    = df[col].quantile(q=0.25)\n",
    "    q3    = df[col].quantile(q=0.75)\n",
    "    iqr   = q3 - q1\n",
    "    lower = (q1 - 1.5 * iqr)\n",
    "    upper = (q3 + 1.5 * iqr)\n",
    "    \n",
    "    # Clip the values only within the bounds\n",
    "    df[col] = df[col].clip(lower, upper)\n",
    "    \n",
    "df.describe()"
   ]
  },
  {
   "cell_type": "markdown",
   "metadata": {},
   "source": [
    "With extreme range of values in each column, we need to normalize all the `predictors` for uniform distribution of `0-1` across the board. "
   ]
  },
  {
   "cell_type": "code",
   "execution_count": 18,
   "metadata": {},
   "outputs": [
    {
     "data": {
      "text/html": [
       "<div>\n",
       "<style scoped>\n",
       "    .dataframe tbody tr th:only-of-type {\n",
       "        vertical-align: middle;\n",
       "    }\n",
       "\n",
       "    .dataframe tbody tr th {\n",
       "        vertical-align: top;\n",
       "    }\n",
       "\n",
       "    .dataframe thead th {\n",
       "        text-align: right;\n",
       "    }\n",
       "</style>\n",
       "<table border=\"1\" class=\"dataframe\">\n",
       "  <thead>\n",
       "    <tr style=\"text-align: right;\">\n",
       "      <th></th>\n",
       "      <th>Issue_Size</th>\n",
       "      <th>Subscription_QIB</th>\n",
       "      <th>Subscription_HNI</th>\n",
       "      <th>Subscription_RII</th>\n",
       "      <th>Subscription_Total</th>\n",
       "      <th>Issue_Price</th>\n",
       "      <th>Listing_Gains_Profit</th>\n",
       "    </tr>\n",
       "  </thead>\n",
       "  <tbody>\n",
       "    <tr>\n",
       "      <th>count</th>\n",
       "      <td>319.000000</td>\n",
       "      <td>319.000000</td>\n",
       "      <td>319.000000</td>\n",
       "      <td>319.000000</td>\n",
       "      <td>319.000000</td>\n",
       "      <td>319.000000</td>\n",
       "      <td>319.000000</td>\n",
       "    </tr>\n",
       "    <tr>\n",
       "      <th>mean</th>\n",
       "      <td>0.305854</td>\n",
       "      <td>0.253601</td>\n",
       "      <td>0.263157</td>\n",
       "      <td>0.309232</td>\n",
       "      <td>0.252489</td>\n",
       "      <td>0.174478</td>\n",
       "      <td>0.545455</td>\n",
       "    </tr>\n",
       "    <tr>\n",
       "      <th>std</th>\n",
       "      <td>0.308308</td>\n",
       "      <td>0.342961</td>\n",
       "      <td>0.374477</td>\n",
       "      <td>0.315147</td>\n",
       "      <td>0.335939</td>\n",
       "      <td>0.164604</td>\n",
       "      <td>0.498712</td>\n",
       "    </tr>\n",
       "    <tr>\n",
       "      <th>min</th>\n",
       "      <td>0.000000</td>\n",
       "      <td>0.000000</td>\n",
       "      <td>0.000000</td>\n",
       "      <td>0.000000</td>\n",
       "      <td>0.000000</td>\n",
       "      <td>0.000000</td>\n",
       "      <td>0.000000</td>\n",
       "    </tr>\n",
       "    <tr>\n",
       "      <th>25%</th>\n",
       "      <td>0.067697</td>\n",
       "      <td>0.013551</td>\n",
       "      <td>0.008184</td>\n",
       "      <td>0.065051</td>\n",
       "      <td>0.020304</td>\n",
       "      <td>0.055349</td>\n",
       "      <td>0.000000</td>\n",
       "    </tr>\n",
       "    <tr>\n",
       "      <th>50%</th>\n",
       "      <td>0.198779</td>\n",
       "      <td>0.058212</td>\n",
       "      <td>0.033061</td>\n",
       "      <td>0.174490</td>\n",
       "      <td>0.060849</td>\n",
       "      <td>0.116279</td>\n",
       "      <td>1.000000</td>\n",
       "    </tr>\n",
       "    <tr>\n",
       "      <th>75%</th>\n",
       "      <td>0.440618</td>\n",
       "      <td>0.408131</td>\n",
       "      <td>0.404910</td>\n",
       "      <td>0.439031</td>\n",
       "      <td>0.412182</td>\n",
       "      <td>0.249302</td>\n",
       "      <td>1.000000</td>\n",
       "    </tr>\n",
       "    <tr>\n",
       "      <th>max</th>\n",
       "      <td>1.000000</td>\n",
       "      <td>1.000000</td>\n",
       "      <td>1.000000</td>\n",
       "      <td>1.000000</td>\n",
       "      <td>1.000000</td>\n",
       "      <td>1.000000</td>\n",
       "      <td>1.000000</td>\n",
       "    </tr>\n",
       "  </tbody>\n",
       "</table>\n",
       "</div>"
      ],
      "text/plain": [
       "       Issue_Size  Subscription_QIB  Subscription_HNI  Subscription_RII  \\\n",
       "count  319.000000        319.000000        319.000000        319.000000   \n",
       "mean     0.305854          0.253601          0.263157          0.309232   \n",
       "std      0.308308          0.342961          0.374477          0.315147   \n",
       "min      0.000000          0.000000          0.000000          0.000000   \n",
       "25%      0.067697          0.013551          0.008184          0.065051   \n",
       "50%      0.198779          0.058212          0.033061          0.174490   \n",
       "75%      0.440618          0.408131          0.404910          0.439031   \n",
       "max      1.000000          1.000000          1.000000          1.000000   \n",
       "\n",
       "       Subscription_Total  Issue_Price  Listing_Gains_Profit  \n",
       "count          319.000000   319.000000            319.000000  \n",
       "mean             0.252489     0.174478              0.545455  \n",
       "std              0.335939     0.164604              0.498712  \n",
       "min              0.000000     0.000000              0.000000  \n",
       "25%              0.020304     0.055349              0.000000  \n",
       "50%              0.060849     0.116279              1.000000  \n",
       "75%              0.412182     0.249302              1.000000  \n",
       "max              1.000000     1.000000              1.000000  "
      ]
     },
     "execution_count": 18,
     "metadata": {},
     "output_type": "execute_result"
    }
   ],
   "source": [
    "df[predictors] = df[predictors] / df[predictors].max()\n",
    "df.describe()"
   ]
  },
  {
   "cell_type": "markdown",
   "metadata": {},
   "source": [
    "## Creating the Holdout Validation Approach\n",
    "\n",
    "Now let's divide the dataset into training and test set. We'll be using a ratio of `70:30` seeing there are only hundreds of entries. A larger ratio would result in lesser entries in test set."
   ]
  },
  {
   "cell_type": "code",
   "execution_count": 19,
   "metadata": {},
   "outputs": [],
   "source": [
    "X = df[predictors].values\n",
    "y = df[target_variable].values\n",
    "\n",
    "X_train, X_test, y_train, y_test = train_test_split(\n",
    "    X, y, test_size=0.3, random_state=100)"
   ]
  },
  {
   "cell_type": "markdown",
   "metadata": {},
   "source": [
    "## Define the Deep Learning Classification Model\n",
    "\n",
    "We can proceed to defining the model in deep learning. We'll make a neural network consisting of an `input_layer`, four `hidden_layer`s, and an `output_layer` in the end. \n",
    "\n",
    "We'll be using an activation function of *Rectified LInear Unit* (ELU) for the input and hidden layers since we've normalized the values to be a positive `0-1`. Lastly we'll use *Sigmoid* function on the output layer to make a neat result, back to `0-1`."
   ]
  },
  {
   "cell_type": "code",
   "execution_count": 20,
   "metadata": {},
   "outputs": [
    {
     "name": "stderr",
     "output_type": "stream",
     "text": [
      "2024-02-18 15:11:12.309339: E tensorflow/stream_executor/cuda/cuda_driver.cc:265] failed call to cuInit: CUDA_ERROR_SYSTEM_DRIVER_MISMATCH: system has unsupported display driver / cuda driver combination\n",
      "2024-02-18 15:11:12.309574: E tensorflow/stream_executor/cuda/cuda_diagnostics.cc:313] kernel version 470.199.2 does not match DSO version 470.161.3 -- cannot find working devices in this configuration\n"
     ]
    }
   ],
   "source": [
    "tf.random.set_seed(100)\n",
    "\n",
    "# DEFINE THE MODEL\n",
    "model = tf.keras.Sequential()\n",
    "# Input layer:\n",
    "model.add(tf.keras.layers.Dense(32,\n",
    "    input_shape=(X_train.shape[1],), activation='relu'))\n",
    "# Hidden layers:\n",
    "model.add(tf.keras.layers.Dense(16, activation='relu'))\n",
    "model.add(tf.keras.layers.Dense( 8, activation='relu'))\n",
    "model.add(tf.keras.layers.Dense( 4, activation='relu'))\n",
    "# Output layer:\n",
    "model.add(tf.keras.layers.Dense( 1, activation='sigmoid'))"
   ]
  },
  {
   "cell_type": "markdown",
   "metadata": {},
   "source": [
    "## Compile and Train the Model\n",
    "\n",
    "We'll be using `Adam` optimizer with loss of `BinaryCrossentropy()` and metrics of `accuracy` to compile the model."
   ]
  },
  {
   "cell_type": "code",
   "execution_count": 21,
   "metadata": {},
   "outputs": [
    {
     "name": "stdout",
     "output_type": "stream",
     "text": [
      "Model: \"sequential\"\n",
      "_________________________________________________________________\n",
      " Layer (type)                Output Shape              Param #   \n",
      "=================================================================\n",
      " dense (Dense)               (None, 32)                224       \n",
      "                                                                 \n",
      " dense_1 (Dense)             (None, 16)                528       \n",
      "                                                                 \n",
      " dense_2 (Dense)             (None, 8)                 136       \n",
      "                                                                 \n",
      " dense_3 (Dense)             (None, 4)                 36        \n",
      "                                                                 \n",
      " dense_4 (Dense)             (None, 1)                 5         \n",
      "                                                                 \n",
      "=================================================================\n",
      "Total params: 929\n",
      "Trainable params: 929\n",
      "Non-trainable params: 0\n",
      "_________________________________________________________________\n"
     ]
    }
   ],
   "source": [
    "model.compile(loss=tf.keras.losses.BinaryCrossentropy(),\n",
    "              metrics=['accuracy'], \n",
    "              optimizer=tf.keras.optimizers.Adam(learning_rate=0.001)\n",
    "             )\n",
    "model.summary()"
   ]
  },
  {
   "cell_type": "code",
   "execution_count": 29,
   "metadata": {
    "tags": []
   },
   "outputs": [
    {
     "data": {
      "text/plain": [
       "<keras.callbacks.History at 0x7f4f4b1f6d70>"
      ]
     },
     "execution_count": 29,
     "metadata": {},
     "output_type": "execute_result"
    }
   ],
   "source": [
    "model.fit(X_train, y_train, epochs=250, verbose=0)"
   ]
  },
  {
   "cell_type": "markdown",
   "metadata": {},
   "source": [
    "## Model Evaluation\n",
    "\n",
    "Now we'll determine how well our model's performing by evaluating the model. Consider these questions in mind to fine-tune our model for b:\n",
    "\n",
    "* What is the overall training accuracy on the train and test datasets?\n",
    "\n",
    "* Is there accuracy consistent across both the train and test datasets, or is there a chance your model is overfitting?\n",
    "\n"
   ]
  },
  {
   "cell_type": "code",
   "execution_count": 30,
   "metadata": {},
   "outputs": [
    {
     "name": "stdout",
     "output_type": "stream",
     "text": [
      "7/7 [==============================] - 0s 1ms/step - loss: 0.2279 - accuracy: 0.8969\n",
      "[0.22786875069141388, 0.8968609571456909]\n",
      "3/3 [==============================] - 0s 2ms/step - loss: 1.6028 - accuracy: 0.7396\n",
      "[1.6027570962905884, 0.7395833134651184]\n"
     ]
    }
   ],
   "source": [
    "print(model.evaluate(X_train, y_train))\n",
    "print(model.evaluate(X_test, y_test))"
   ]
  },
  {
   "cell_type": "markdown",
   "metadata": {},
   "source": [
    "We can see that the accuracy for both training and test set are `74.44%` and `68.75%`. There is inconsistency between both types of set, therefore we need to adjust the model to, not only match both results better, but also increase the accuracy."
   ]
  },
  {
   "cell_type": "markdown",
   "metadata": {},
   "source": [
    "We can approach optimizing the model by:\n",
    "\n",
    "* **Hyperparameter Optimization:** Tuning values of argument in a function such as learning rate, number of layers, etc.\n",
    "\n",
    "* **Optimizers and Loss Functions:** Different options for both documented [here](https://www.tensorflow.org/api_docs/python/tf/keras/optimizers) and [here](https://www.tensorflow.org/api_docs/python/tf/keras/losses)\n",
    "\n",
    "* **Features:** Construct new fatures that may be strongly correlated with the target variable.\n",
    "\n",
    "* **Performance Metrics:** Trying other performance metrics to see if it helps guide the model towards better results.\n",
    "\n",
    "* **Domain Specific Knowledge:** Adjust model to a knowledge to enhance performance and accuracy."
   ]
  }
 ],
 "metadata": {
  "kernelspec": {
   "display_name": "Python 3 (ipykernel)",
   "language": "python",
   "name": "python3"
  },
  "language_info": {
   "codemirror_mode": {
    "name": "ipython",
    "version": 3
   },
   "file_extension": ".py",
   "mimetype": "text/x-python",
   "name": "python",
   "nbconvert_exporter": "python",
   "pygments_lexer": "ipython3",
   "version": "3.11.5"
  }
 },
 "nbformat": 4,
 "nbformat_minor": 4
}
